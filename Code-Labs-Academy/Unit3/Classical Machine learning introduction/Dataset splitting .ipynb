{
 "cells": [
  {
   "cell_type": "markdown",
   "id": "7c07cfdc",
   "metadata": {},
   "source": [
    "### Dataset splitting "
   ]
  },
  {
   "cell_type": "code",
   "execution_count": 10,
   "id": "8a42af70",
   "metadata": {},
   "outputs": [],
   "source": [
    "from sklearn.model_selection import train_test_split\n",
    "from sklearn.datasets import load_iris"
   ]
  },
  {
   "cell_type": "code",
   "execution_count": 11,
   "id": "85798a5f",
   "metadata": {},
   "outputs": [],
   "source": [
    "iris = load_iris()\n",
    "X = iris.data\n",
    "y = iris.target"
   ]
  },
  {
   "cell_type": "code",
   "execution_count": 12,
   "id": "2184cad5",
   "metadata": {},
   "outputs": [],
   "source": [
    "x_train,x_t,y_train,y_t = train_test_split(X,y,test_size = 0.2, random_state=123)"
   ]
  },
  {
   "cell_type": "code",
   "execution_count": 14,
   "id": "37bc30c4",
   "metadata": {},
   "outputs": [],
   "source": [
    "# Get the set and the validation set apart\n",
    "x_test, x_valis,y_test,y_valid = train_test_split(x_t,y_t,test_size=0.5,random_state=123)"
   ]
  },
  {
   "cell_type": "code",
   "execution_count": null,
   "id": "83b1b02c",
   "metadata": {},
   "outputs": [],
   "source": []
  }
 ],
 "metadata": {
  "kernelspec": {
   "display_name": "Python 3 (ipykernel)",
   "language": "python",
   "name": "python3"
  },
  "language_info": {
   "codemirror_mode": {
    "name": "ipython",
    "version": 3
   },
   "file_extension": ".py",
   "mimetype": "text/x-python",
   "name": "python",
   "nbconvert_exporter": "python",
   "pygments_lexer": "ipython3",
   "version": "3.9.7"
  }
 },
 "nbformat": 4,
 "nbformat_minor": 5
}
