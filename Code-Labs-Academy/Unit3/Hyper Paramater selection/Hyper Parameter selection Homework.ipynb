{
 "cells": [
  {
   "cell_type": "markdown",
   "id": "16ddd0e4",
   "metadata": {},
   "source": [
    "### First use the support vector machine classifier along with Grid search to get the best SVC classifier possible for this task"
   ]
  },
  {
   "cell_type": "code",
   "execution_count": 1,
   "id": "6475f272",
   "metadata": {},
   "outputs": [],
   "source": [
    "# importing the necessary packages\n",
    "from sklearn.datasets import load_digits\n",
    "from sklearn.svm import SVC\n",
    "from sklearn.model_selection import train_test_split\n",
    "from sklearn.model_selection import GridSearchCV\n",
    "from sklearn.metrics import classification_report\n",
    "from sklearn.metrics import accuracy_score\n",
    "import autosklearn.classification as automl"
   ]
  },
  {
   "cell_type": "code",
   "execution_count": 2,
   "id": "e14abb72",
   "metadata": {},
   "outputs": [],
   "source": [
    "# load the data amnd split it into train , test\n",
    "digits = load_digits()\n",
    "x = digits.data\n",
    "y = digits.target\n",
    "\n",
    "x_train, x_test, y_train, y_test = train_test_split(x,y, test_size = 0.2, random_state = 42)\n",
    "\n"
   ]
  },
  {
   "cell_type": "code",
   "execution_count": 3,
   "id": "df4092d7",
   "metadata": {},
   "outputs": [],
   "source": [
    "# Set parameters by cross-validation\n",
    "tuned_parameters = [{'kernel': ['rbf', 'linear'], 'gamma':[1e-3, 1e-4], 'C':[1,10,100,1000]}]"
   ]
  },
  {
   "cell_type": "code",
   "execution_count": 4,
   "id": "f6d6b70b",
   "metadata": {},
   "outputs": [],
   "source": [
    "scores =['precision','recall']"
   ]
  },
  {
   "cell_type": "code",
   "execution_count": 5,
   "id": "62b8dab2",
   "metadata": {},
   "outputs": [],
   "source": [
    "def grid_search (X_train, y_train, x_test, y_test, tunes_params, metric=\"precision\"):\n",
    "    print(\"# Tuning hyper-parameters for %s\" % metric)\n",
    "    clf = GridSearchCV(SVC(), tuned_parameters, scoring='%s_macro'% metric)\n",
    "    clf.fit(x_train, y_train)\n",
    "    print(\"Best params found\")\n",
    "    print(clf.best_params_)\n",
    "    print(\"Grid scores on development set : \")\n",
    "    print(clf.best_estimator_)\n",
    "    print()\n",
    "    means = clf.cv_results_['mean_test_score']\n",
    "    stds = clf.cv_results_['std_test_score']\n",
    "    for mean, std, params in zip(means, stds, clf.cv_results_['params']):\n",
    "        print(\"%0.3f (+/-%0.03f) for %r\"\n",
    "             %(mean, std * 2, params))\n",
    "    print(\"Classification report\")\n",
    "    y_true, y_pred = y_test, clf.predict(x_test)\n",
    "    print(classification_report(y_true, y_pred))"
   ]
  },
  {
   "cell_type": "code",
   "execution_count": 6,
   "id": "a41390de",
   "metadata": {},
   "outputs": [
    {
     "name": "stdout",
     "output_type": "stream",
     "text": [
      "# Tuning hyper-parameters for precision\n",
      "Best params found\n",
      "{'C': 10, 'gamma': 0.001, 'kernel': 'rbf'}\n",
      "Grid scores on development set : \n",
      "SVC(C=10, gamma=0.001)\n",
      "\n",
      "0.988 (+/-0.008) for {'C': 1, 'gamma': 0.001, 'kernel': 'rbf'}\n",
      "0.972 (+/-0.016) for {'C': 1, 'gamma': 0.001, 'kernel': 'linear'}\n",
      "0.971 (+/-0.018) for {'C': 1, 'gamma': 0.0001, 'kernel': 'rbf'}\n",
      "0.972 (+/-0.016) for {'C': 1, 'gamma': 0.0001, 'kernel': 'linear'}\n",
      "0.990 (+/-0.007) for {'C': 10, 'gamma': 0.001, 'kernel': 'rbf'}\n",
      "0.972 (+/-0.016) for {'C': 10, 'gamma': 0.001, 'kernel': 'linear'}\n",
      "0.983 (+/-0.012) for {'C': 10, 'gamma': 0.0001, 'kernel': 'rbf'}\n",
      "0.972 (+/-0.016) for {'C': 10, 'gamma': 0.0001, 'kernel': 'linear'}\n",
      "0.990 (+/-0.007) for {'C': 100, 'gamma': 0.001, 'kernel': 'rbf'}\n",
      "0.972 (+/-0.016) for {'C': 100, 'gamma': 0.001, 'kernel': 'linear'}\n",
      "0.985 (+/-0.006) for {'C': 100, 'gamma': 0.0001, 'kernel': 'rbf'}\n",
      "0.972 (+/-0.016) for {'C': 100, 'gamma': 0.0001, 'kernel': 'linear'}\n",
      "0.990 (+/-0.007) for {'C': 1000, 'gamma': 0.001, 'kernel': 'rbf'}\n",
      "0.972 (+/-0.016) for {'C': 1000, 'gamma': 0.001, 'kernel': 'linear'}\n",
      "0.985 (+/-0.006) for {'C': 1000, 'gamma': 0.0001, 'kernel': 'rbf'}\n",
      "0.972 (+/-0.016) for {'C': 1000, 'gamma': 0.0001, 'kernel': 'linear'}\n",
      "Classification report\n",
      "              precision    recall  f1-score   support\n",
      "\n",
      "           0       1.00      1.00      1.00        33\n",
      "           1       1.00      1.00      1.00        28\n",
      "           2       1.00      1.00      1.00        33\n",
      "           3       1.00      0.97      0.99        34\n",
      "           4       1.00      1.00      1.00        46\n",
      "           5       0.98      0.98      0.98        47\n",
      "           6       0.97      1.00      0.99        35\n",
      "           7       0.97      0.97      0.97        34\n",
      "           8       1.00      1.00      1.00        30\n",
      "           9       0.97      0.97      0.97        40\n",
      "\n",
      "    accuracy                           0.99       360\n",
      "   macro avg       0.99      0.99      0.99       360\n",
      "weighted avg       0.99      0.99      0.99       360\n",
      "\n"
     ]
    }
   ],
   "source": [
    "# Grid search using only the precision\n",
    "import warnings\n",
    "warnings.filterwarnings(\"ignore\")\n",
    "\n",
    "grid_search(x_train, y_train, x_test, y_test, tuned_parameters, scores[0])"
   ]
  },
  {
   "cell_type": "markdown",
   "id": "7934788d",
   "metadata": {},
   "source": [
    "### Next you will be using the auto sklearn to find the best fitting classifier for this dataset"
   ]
  },
  {
   "cell_type": "code",
   "execution_count": 7,
   "id": "6a1290d5",
   "metadata": {},
   "outputs": [],
   "source": [
    "import warnings\n",
    "warnings.filterwarnings(\"ignore\")"
   ]
  },
  {
   "cell_type": "code",
   "execution_count": 18,
   "id": "cb26513f",
   "metadata": {},
   "outputs": [
    {
     "name": "stdout",
     "output_type": "stream",
     "text": [
      "Requirement already satisfied: auto-sklearn in /Users/cheimamezdour/opt/anaconda3/lib/python3.9/site-packages (0.14.7)\n",
      "Requirement already satisfied: typing-extensions in /Users/cheimamezdour/opt/anaconda3/lib/python3.9/site-packages (from auto-sklearn) (3.10.0.2)\n",
      "Requirement already satisfied: distro in /Users/cheimamezdour/opt/anaconda3/lib/python3.9/site-packages (from auto-sklearn) (1.7.0)\n",
      "Requirement already satisfied: pyyaml in /Users/cheimamezdour/opt/anaconda3/lib/python3.9/site-packages (from auto-sklearn) (6.0)\n",
      "Requirement already satisfied: pandas>=1.0 in /Users/cheimamezdour/opt/anaconda3/lib/python3.9/site-packages (from auto-sklearn) (1.3.5)\n",
      "Requirement already satisfied: liac-arff in /Users/cheimamezdour/opt/anaconda3/lib/python3.9/site-packages (from auto-sklearn) (2.5.0)\n",
      "Requirement already satisfied: distributed>=2012.12 in /Users/cheimamezdour/opt/anaconda3/lib/python3.9/site-packages (from auto-sklearn) (2022.6.1)\n",
      "Requirement already satisfied: ConfigSpace<0.5,>=0.4.21 in /Users/cheimamezdour/opt/anaconda3/lib/python3.9/site-packages (from auto-sklearn) (0.4.21)\n",
      "Requirement already satisfied: smac<1.3,>=1.2 in /Users/cheimamezdour/opt/anaconda3/lib/python3.9/site-packages (from auto-sklearn) (1.2)\n",
      "Requirement already satisfied: scikit-learn<0.25.0,>=0.24.0 in /Users/cheimamezdour/opt/anaconda3/lib/python3.9/site-packages (from auto-sklearn) (0.24.2)\n",
      "Requirement already satisfied: numpy>=1.9.0 in /Users/cheimamezdour/opt/anaconda3/lib/python3.9/site-packages (from auto-sklearn) (1.22.4)\n",
      "Requirement already satisfied: joblib in /Users/cheimamezdour/opt/anaconda3/lib/python3.9/site-packages (from auto-sklearn) (1.1.0)\n",
      "Requirement already satisfied: dask>=2021.12 in /Users/cheimamezdour/opt/anaconda3/lib/python3.9/site-packages (from auto-sklearn) (2022.6.1)\n",
      "Requirement already satisfied: pynisher<0.7,>=0.6.3 in /Users/cheimamezdour/opt/anaconda3/lib/python3.9/site-packages (from auto-sklearn) (0.6.4)\n",
      "Requirement already satisfied: pyrfr<0.9,>=0.8.1 in /Users/cheimamezdour/opt/anaconda3/lib/python3.9/site-packages (from auto-sklearn) (0.8.3)\n",
      "Requirement already satisfied: scipy>=1.7.0 in /Users/cheimamezdour/opt/anaconda3/lib/python3.9/site-packages (from auto-sklearn) (1.7.1)\n",
      "Requirement already satisfied: threadpoolctl in /Users/cheimamezdour/opt/anaconda3/lib/python3.9/site-packages (from auto-sklearn) (2.2.0)\n",
      "Requirement already satisfied: setuptools in /Users/cheimamezdour/opt/anaconda3/lib/python3.9/site-packages (from auto-sklearn) (60.9.3)\n",
      "Requirement already satisfied: cython in /Users/cheimamezdour/opt/anaconda3/lib/python3.9/site-packages (from ConfigSpace<0.5,>=0.4.21->auto-sklearn) (0.29.24)\n",
      "Requirement already satisfied: pyparsing in /Users/cheimamezdour/opt/anaconda3/lib/python3.9/site-packages (from ConfigSpace<0.5,>=0.4.21->auto-sklearn) (3.0.4)\n",
      "Requirement already satisfied: cloudpickle>=1.1.1 in /Users/cheimamezdour/opt/anaconda3/lib/python3.9/site-packages (from dask>=2021.12->auto-sklearn) (2.0.0)\n",
      "Requirement already satisfied: fsspec>=0.6.0 in /Users/cheimamezdour/opt/anaconda3/lib/python3.9/site-packages (from dask>=2021.12->auto-sklearn) (2021.8.1)\n",
      "Requirement already satisfied: packaging>=20.0 in /Users/cheimamezdour/opt/anaconda3/lib/python3.9/site-packages (from dask>=2021.12->auto-sklearn) (21.0)\n",
      "Requirement already satisfied: partd>=0.3.10 in /Users/cheimamezdour/opt/anaconda3/lib/python3.9/site-packages (from dask>=2021.12->auto-sklearn) (1.2.0)\n",
      "Requirement already satisfied: toolz>=0.8.2 in /Users/cheimamezdour/opt/anaconda3/lib/python3.9/site-packages (from dask>=2021.12->auto-sklearn) (0.11.1)\n",
      "Requirement already satisfied: sortedcontainers!=2.0.0,!=2.0.1 in /Users/cheimamezdour/opt/anaconda3/lib/python3.9/site-packages (from distributed>=2012.12->auto-sklearn) (2.4.0)\n",
      "Requirement already satisfied: tornado>=6.0.3 in /Users/cheimamezdour/opt/anaconda3/lib/python3.9/site-packages (from distributed>=2012.12->auto-sklearn) (6.1)\n",
      "Requirement already satisfied: click>=6.6 in /Users/cheimamezdour/opt/anaconda3/lib/python3.9/site-packages (from distributed>=2012.12->auto-sklearn) (8.0.3)\n",
      "Requirement already satisfied: msgpack>=0.6.0 in /Users/cheimamezdour/opt/anaconda3/lib/python3.9/site-packages (from distributed>=2012.12->auto-sklearn) (1.0.2)\n",
      "Requirement already satisfied: zict>=0.1.3 in /Users/cheimamezdour/opt/anaconda3/lib/python3.9/site-packages (from distributed>=2012.12->auto-sklearn) (2.0.0)\n",
      "Requirement already satisfied: jinja2 in /Users/cheimamezdour/opt/anaconda3/lib/python3.9/site-packages (from distributed>=2012.12->auto-sklearn) (2.11.3)\n",
      "Requirement already satisfied: psutil>=5.0 in /Users/cheimamezdour/opt/anaconda3/lib/python3.9/site-packages (from distributed>=2012.12->auto-sklearn) (5.8.0)\n",
      "Requirement already satisfied: urllib3 in /Users/cheimamezdour/opt/anaconda3/lib/python3.9/site-packages (from distributed>=2012.12->auto-sklearn) (1.26.7)\n",
      "Requirement already satisfied: locket>=1.0.0 in /Users/cheimamezdour/opt/anaconda3/lib/python3.9/site-packages (from distributed>=2012.12->auto-sklearn) (1.0.0)\n",
      "Requirement already satisfied: tblib>=1.6.0 in /Users/cheimamezdour/opt/anaconda3/lib/python3.9/site-packages (from distributed>=2012.12->auto-sklearn) (1.7.0)\n",
      "Requirement already satisfied: pytz>=2017.3 in /Users/cheimamezdour/opt/anaconda3/lib/python3.9/site-packages (from pandas>=1.0->auto-sklearn) (2021.3)\n",
      "Requirement already satisfied: python-dateutil>=2.7.3 in /Users/cheimamezdour/opt/anaconda3/lib/python3.9/site-packages (from pandas>=1.0->auto-sklearn) (2.8.2)\n",
      "Requirement already satisfied: emcee>=3.0.0 in /Users/cheimamezdour/opt/anaconda3/lib/python3.9/site-packages (from smac<1.3,>=1.2->auto-sklearn) (3.1.2)\n",
      "Requirement already satisfied: six>=1.5 in /Users/cheimamezdour/opt/anaconda3/lib/python3.9/site-packages (from python-dateutil>=2.7.3->pandas>=1.0->auto-sklearn) (1.16.0)\n",
      "Requirement already satisfied: heapdict in /Users/cheimamezdour/opt/anaconda3/lib/python3.9/site-packages (from zict>=0.1.3->distributed>=2012.12->auto-sklearn) (1.0.1)\n",
      "Requirement already satisfied: MarkupSafe>=0.23 in /Users/cheimamezdour/opt/anaconda3/lib/python3.9/site-packages (from jinja2->distributed>=2012.12->auto-sklearn) (1.1.1)\n",
      "\u001b[33mWARNING: You are using pip version 22.0.4; however, version 22.1.2 is available.\n",
      "You should consider upgrading via the '/Users/cheimamezdour/opt/anaconda3/bin/python -m pip install --upgrade pip' command.\u001b[0m\u001b[33m\n",
      "\u001b[0m"
     ]
    }
   ],
   "source": [
    "!pip3 install auto-sklearn"
   ]
  },
  {
   "cell_type": "code",
   "execution_count": 23,
   "id": "c49f95e0",
   "metadata": {},
   "outputs": [],
   "source": [
    "cls = automl.AutoSklearnClassifier(time_left_for_this_task=1*60,per_run_time_limit=30, n_jobs=1)"
   ]
  },
  {
   "cell_type": "code",
   "execution_count": 24,
   "id": "00f82245",
   "metadata": {},
   "outputs": [
    {
     "name": "stdout",
     "output_type": "stream",
     "text": [
      "[ERROR] [2022-06-30 19:06:42,160:Client-AutoML(1):5e4a531e-f89f-11ec-8684-aef5e3ee36cb] Dummy prediction failed with run state StatusType.CRASHED and additional output: {'error': 'Result queue is empty', 'exit_status': \"<class 'pynisher.limit_function_call.AnythingException'>\", 'subprocess_stdout': '', 'subprocess_stderr': 'Process pynisher function call:\\nTraceback (most recent call last):\\n  File \"/Users/cheimamezdour/opt/anaconda3/lib/python3.9/multiprocessing/process.py\", line 315, in _bootstrap\\n    self.run()\\n  File \"/Users/cheimamezdour/opt/anaconda3/lib/python3.9/multiprocessing/process.py\", line 108, in run\\n    self._target(*self._args, **self._kwargs)\\n  File \"/Users/cheimamezdour/opt/anaconda3/lib/python3.9/site-packages/pynisher/limit_function_call.py\", line 108, in subprocess_func\\n    resource.setrlimit(resource.RLIMIT_AS, (mem_in_b, mem_in_b))\\nValueError: current limit exceeds maximum limit\\n', 'exitcode': 1, 'configuration_origin': 'DUMMY'}.\n"
     ]
    },
    {
     "ename": "ValueError",
     "evalue": "Dummy prediction failed with run state StatusType.CRASHED and additional output: {'error': 'Result queue is empty', 'exit_status': \"<class 'pynisher.limit_function_call.AnythingException'>\", 'subprocess_stdout': '', 'subprocess_stderr': 'Process pynisher function call:\\nTraceback (most recent call last):\\n  File \"/Users/cheimamezdour/opt/anaconda3/lib/python3.9/multiprocessing/process.py\", line 315, in _bootstrap\\n    self.run()\\n  File \"/Users/cheimamezdour/opt/anaconda3/lib/python3.9/multiprocessing/process.py\", line 108, in run\\n    self._target(*self._args, **self._kwargs)\\n  File \"/Users/cheimamezdour/opt/anaconda3/lib/python3.9/site-packages/pynisher/limit_function_call.py\", line 108, in subprocess_func\\n    resource.setrlimit(resource.RLIMIT_AS, (mem_in_b, mem_in_b))\\nValueError: current limit exceeds maximum limit\\n', 'exitcode': 1, 'configuration_origin': 'DUMMY'}.",
     "output_type": "error",
     "traceback": [
      "\u001b[0;31m---------------------------------------------------------------------------\u001b[0m",
      "\u001b[0;31mValueError\u001b[0m                                Traceback (most recent call last)",
      "\u001b[0;32m/var/folders/rr/62tz31v139gdkk0h36fmvq240000gn/T/ipykernel_1668/3698028723.py\u001b[0m in \u001b[0;36m<module>\u001b[0;34m\u001b[0m\n\u001b[1;32m      1\u001b[0m \u001b[0mcls\u001b[0m\u001b[0;34m\u001b[0m\u001b[0;34m\u001b[0m\u001b[0m\n\u001b[0;32m----> 2\u001b[0;31m \u001b[0mcls\u001b[0m\u001b[0;34m.\u001b[0m\u001b[0mfit\u001b[0m\u001b[0;34m(\u001b[0m\u001b[0mx_train\u001b[0m\u001b[0;34m,\u001b[0m\u001b[0my_train\u001b[0m\u001b[0;34m)\u001b[0m\u001b[0;34m\u001b[0m\u001b[0;34m\u001b[0m\u001b[0m\n\u001b[0m",
      "\u001b[0;32m~/opt/anaconda3/lib/python3.9/site-packages/autosklearn/estimators.py\u001b[0m in \u001b[0;36mfit\u001b[0;34m(self, X, y, X_test, y_test, feat_type, dataset_name)\u001b[0m\n\u001b[1;32m   1043\u001b[0m         \u001b[0mself\u001b[0m\u001b[0;34m.\u001b[0m\u001b[0mtarget_type\u001b[0m \u001b[0;34m=\u001b[0m \u001b[0mtarget_type\u001b[0m\u001b[0;34m\u001b[0m\u001b[0;34m\u001b[0m\u001b[0m\n\u001b[1;32m   1044\u001b[0m \u001b[0;34m\u001b[0m\u001b[0m\n\u001b[0;32m-> 1045\u001b[0;31m         super().fit(\n\u001b[0m\u001b[1;32m   1046\u001b[0m             \u001b[0mX\u001b[0m\u001b[0;34m=\u001b[0m\u001b[0mX\u001b[0m\u001b[0;34m,\u001b[0m\u001b[0;34m\u001b[0m\u001b[0;34m\u001b[0m\u001b[0m\n\u001b[1;32m   1047\u001b[0m             \u001b[0my\u001b[0m\u001b[0;34m=\u001b[0m\u001b[0my\u001b[0m\u001b[0;34m,\u001b[0m\u001b[0;34m\u001b[0m\u001b[0;34m\u001b[0m\u001b[0m\n",
      "\u001b[0;32m~/opt/anaconda3/lib/python3.9/site-packages/autosklearn/estimators.py\u001b[0m in \u001b[0;36mfit\u001b[0;34m(self, **kwargs)\u001b[0m\n\u001b[1;32m    373\u001b[0m         \u001b[0;32mif\u001b[0m \u001b[0mself\u001b[0m\u001b[0;34m.\u001b[0m\u001b[0mautoml_\u001b[0m \u001b[0;32mis\u001b[0m \u001b[0;32mNone\u001b[0m\u001b[0;34m:\u001b[0m\u001b[0;34m\u001b[0m\u001b[0;34m\u001b[0m\u001b[0m\n\u001b[1;32m    374\u001b[0m             \u001b[0mself\u001b[0m\u001b[0;34m.\u001b[0m\u001b[0mautoml_\u001b[0m \u001b[0;34m=\u001b[0m \u001b[0mself\u001b[0m\u001b[0;34m.\u001b[0m\u001b[0mbuild_automl\u001b[0m\u001b[0;34m(\u001b[0m\u001b[0;34m)\u001b[0m\u001b[0;34m\u001b[0m\u001b[0;34m\u001b[0m\u001b[0m\n\u001b[0;32m--> 375\u001b[0;31m         \u001b[0mself\u001b[0m\u001b[0;34m.\u001b[0m\u001b[0mautoml_\u001b[0m\u001b[0;34m.\u001b[0m\u001b[0mfit\u001b[0m\u001b[0;34m(\u001b[0m\u001b[0mload_models\u001b[0m\u001b[0;34m=\u001b[0m\u001b[0mself\u001b[0m\u001b[0;34m.\u001b[0m\u001b[0mload_models\u001b[0m\u001b[0;34m,\u001b[0m \u001b[0;34m**\u001b[0m\u001b[0mkwargs\u001b[0m\u001b[0;34m)\u001b[0m\u001b[0;34m\u001b[0m\u001b[0;34m\u001b[0m\u001b[0m\n\u001b[0m\u001b[1;32m    376\u001b[0m \u001b[0;34m\u001b[0m\u001b[0m\n\u001b[1;32m    377\u001b[0m         \u001b[0;32mreturn\u001b[0m \u001b[0mself\u001b[0m\u001b[0;34m\u001b[0m\u001b[0;34m\u001b[0m\u001b[0m\n",
      "\u001b[0;32m~/opt/anaconda3/lib/python3.9/site-packages/autosklearn/automl.py\u001b[0m in \u001b[0;36mfit\u001b[0;34m(self, X, y, X_test, y_test, feat_type, dataset_name, only_return_configuration_space, load_models)\u001b[0m\n\u001b[1;32m   2054\u001b[0m         \u001b[0mload_models\u001b[0m\u001b[0;34m:\u001b[0m \u001b[0mbool\u001b[0m \u001b[0;34m=\u001b[0m \u001b[0;32mTrue\u001b[0m\u001b[0;34m,\u001b[0m\u001b[0;34m\u001b[0m\u001b[0;34m\u001b[0m\u001b[0m\n\u001b[1;32m   2055\u001b[0m     ):\n\u001b[0;32m-> 2056\u001b[0;31m         return super().fit(\n\u001b[0m\u001b[1;32m   2057\u001b[0m             \u001b[0mX\u001b[0m\u001b[0;34m,\u001b[0m \u001b[0my\u001b[0m\u001b[0;34m,\u001b[0m\u001b[0;34m\u001b[0m\u001b[0;34m\u001b[0m\u001b[0m\n\u001b[1;32m   2058\u001b[0m             \u001b[0mX_test\u001b[0m\u001b[0;34m=\u001b[0m\u001b[0mX_test\u001b[0m\u001b[0;34m,\u001b[0m\u001b[0;34m\u001b[0m\u001b[0;34m\u001b[0m\u001b[0m\n",
      "\u001b[0;32m~/opt/anaconda3/lib/python3.9/site-packages/autosklearn/automl.py\u001b[0m in \u001b[0;36mfit\u001b[0;34m(self, X, y, task, X_test, y_test, feat_type, dataset_name, only_return_configuration_space, load_models, is_classification)\u001b[0m\n\u001b[1;32m    806\u001b[0m         \u001b[0;31m# == Perform dummy predictions\u001b[0m\u001b[0;34m\u001b[0m\u001b[0;34m\u001b[0m\u001b[0m\n\u001b[1;32m    807\u001b[0m         \u001b[0;31m# Dummy prediction always have num_run set to 1\u001b[0m\u001b[0;34m\u001b[0m\u001b[0;34m\u001b[0m\u001b[0m\n\u001b[0;32m--> 808\u001b[0;31m         \u001b[0mself\u001b[0m\u001b[0;34m.\u001b[0m\u001b[0mnum_run\u001b[0m \u001b[0;34m+=\u001b[0m \u001b[0mself\u001b[0m\u001b[0;34m.\u001b[0m\u001b[0m_do_dummy_prediction\u001b[0m\u001b[0;34m(\u001b[0m\u001b[0mdatamanager\u001b[0m\u001b[0;34m,\u001b[0m \u001b[0mnum_run\u001b[0m\u001b[0;34m=\u001b[0m\u001b[0;36m1\u001b[0m\u001b[0;34m)\u001b[0m\u001b[0;34m\u001b[0m\u001b[0;34m\u001b[0m\u001b[0m\n\u001b[0m\u001b[1;32m    809\u001b[0m \u001b[0;34m\u001b[0m\u001b[0m\n\u001b[1;32m    810\u001b[0m         \u001b[0;31m# == RUN ensemble builder\u001b[0m\u001b[0;34m\u001b[0m\u001b[0;34m\u001b[0m\u001b[0m\n",
      "\u001b[0;32m~/opt/anaconda3/lib/python3.9/site-packages/autosklearn/automl.py\u001b[0m in \u001b[0;36m_do_dummy_prediction\u001b[0;34m(self, datamanager, num_run)\u001b[0m\n\u001b[1;32m    474\u001b[0m                 )\n\u001b[1;32m    475\u001b[0m                 \u001b[0;31m# Fail if dummy prediction fails.\u001b[0m\u001b[0;34m\u001b[0m\u001b[0;34m\u001b[0m\u001b[0m\n\u001b[0;32m--> 476\u001b[0;31m                 raise ValueError(\n\u001b[0m\u001b[1;32m    477\u001b[0m                     \u001b[0;34m\"Dummy prediction failed with run state %s and additional output: %s.\"\u001b[0m\u001b[0;34m\u001b[0m\u001b[0;34m\u001b[0m\u001b[0m\n\u001b[1;32m    478\u001b[0m                     \u001b[0;34m%\u001b[0m \u001b[0;34m(\u001b[0m\u001b[0mstr\u001b[0m\u001b[0;34m(\u001b[0m\u001b[0mstatus\u001b[0m\u001b[0;34m)\u001b[0m\u001b[0;34m,\u001b[0m \u001b[0mstr\u001b[0m\u001b[0;34m(\u001b[0m\u001b[0madditional_info\u001b[0m\u001b[0;34m)\u001b[0m\u001b[0;34m)\u001b[0m\u001b[0;34m\u001b[0m\u001b[0;34m\u001b[0m\u001b[0m\n",
      "\u001b[0;31mValueError\u001b[0m: Dummy prediction failed with run state StatusType.CRASHED and additional output: {'error': 'Result queue is empty', 'exit_status': \"<class 'pynisher.limit_function_call.AnythingException'>\", 'subprocess_stdout': '', 'subprocess_stderr': 'Process pynisher function call:\\nTraceback (most recent call last):\\n  File \"/Users/cheimamezdour/opt/anaconda3/lib/python3.9/multiprocessing/process.py\", line 315, in _bootstrap\\n    self.run()\\n  File \"/Users/cheimamezdour/opt/anaconda3/lib/python3.9/multiprocessing/process.py\", line 108, in run\\n    self._target(*self._args, **self._kwargs)\\n  File \"/Users/cheimamezdour/opt/anaconda3/lib/python3.9/site-packages/pynisher/limit_function_call.py\", line 108, in subprocess_func\\n    resource.setrlimit(resource.RLIMIT_AS, (mem_in_b, mem_in_b))\\nValueError: current limit exceeds maximum limit\\n', 'exitcode': 1, 'configuration_origin': 'DUMMY'}."
     ]
    },
    {
     "name": "stdout",
     "output_type": "stream",
     "text": [
      "[WARNING] [2022-06-30 19:06:50,002:Client-autosklearn.automl_common.common.utils.backend] Directory /var/folders/rr/62tz31v139gdkk0h36fmvq240000gn/T/auto-sklearn_tmp_5e4a6174-f89f-11ec-8684-aef5e3ee36cb/.auto-sklearn/ensembles does not exist\n"
     ]
    }
   ],
   "source": [
    "cls\n",
    "cls.fit(x_train,y_train)"
   ]
  },
  {
   "cell_type": "code",
   "execution_count": 25,
   "id": "5a656236",
   "metadata": {},
   "outputs": [
    {
     "ename": "AttributeError",
     "evalue": "'AutoMLClassifier' object has no attribute 'runhistory_'",
     "output_type": "error",
     "traceback": [
      "\u001b[0;31m---------------------------------------------------------------------------\u001b[0m",
      "\u001b[0;31mAttributeError\u001b[0m                            Traceback (most recent call last)",
      "\u001b[0;32m/var/folders/rr/62tz31v139gdkk0h36fmvq240000gn/T/ipykernel_1668/3452245815.py\u001b[0m in \u001b[0;36m<module>\u001b[0;34m\u001b[0m\n\u001b[0;32m----> 1\u001b[0;31m \u001b[0mpredictions\u001b[0m\u001b[0;34m=\u001b[0m \u001b[0mcls\u001b[0m\u001b[0;34m.\u001b[0m\u001b[0mpredict\u001b[0m\u001b[0;34m(\u001b[0m\u001b[0mx_test\u001b[0m\u001b[0;34m)\u001b[0m\u001b[0;34m\u001b[0m\u001b[0;34m\u001b[0m\u001b[0m\n\u001b[0m",
      "\u001b[0;32m~/opt/anaconda3/lib/python3.9/site-packages/autosklearn/estimators.py\u001b[0m in \u001b[0;36mpredict\u001b[0;34m(self, X, batch_size, n_jobs)\u001b[0m\n\u001b[1;32m   1072\u001b[0m \u001b[0;34m\u001b[0m\u001b[0m\n\u001b[1;32m   1073\u001b[0m         \"\"\"\n\u001b[0;32m-> 1074\u001b[0;31m         \u001b[0;32mreturn\u001b[0m \u001b[0msuper\u001b[0m\u001b[0;34m(\u001b[0m\u001b[0;34m)\u001b[0m\u001b[0;34m.\u001b[0m\u001b[0mpredict\u001b[0m\u001b[0;34m(\u001b[0m\u001b[0mX\u001b[0m\u001b[0;34m,\u001b[0m \u001b[0mbatch_size\u001b[0m\u001b[0;34m=\u001b[0m\u001b[0mbatch_size\u001b[0m\u001b[0;34m,\u001b[0m \u001b[0mn_jobs\u001b[0m\u001b[0;34m=\u001b[0m\u001b[0mn_jobs\u001b[0m\u001b[0;34m)\u001b[0m\u001b[0;34m\u001b[0m\u001b[0;34m\u001b[0m\u001b[0m\n\u001b[0m\u001b[1;32m   1075\u001b[0m \u001b[0;34m\u001b[0m\u001b[0m\n\u001b[1;32m   1076\u001b[0m     \u001b[0;32mdef\u001b[0m \u001b[0mpredict_proba\u001b[0m\u001b[0;34m(\u001b[0m\u001b[0mself\u001b[0m\u001b[0;34m,\u001b[0m \u001b[0mX\u001b[0m\u001b[0;34m,\u001b[0m \u001b[0mbatch_size\u001b[0m\u001b[0;34m=\u001b[0m\u001b[0;32mNone\u001b[0m\u001b[0;34m,\u001b[0m \u001b[0mn_jobs\u001b[0m\u001b[0;34m=\u001b[0m\u001b[0;36m1\u001b[0m\u001b[0;34m)\u001b[0m\u001b[0;34m:\u001b[0m\u001b[0;34m\u001b[0m\u001b[0;34m\u001b[0m\u001b[0m\n",
      "\u001b[0;32m~/opt/anaconda3/lib/python3.9/site-packages/autosklearn/estimators.py\u001b[0m in \u001b[0;36mpredict\u001b[0;34m(self, X, batch_size, n_jobs)\u001b[0m\n\u001b[1;32m    528\u001b[0m \u001b[0;34m\u001b[0m\u001b[0m\n\u001b[1;32m    529\u001b[0m     \u001b[0;32mdef\u001b[0m \u001b[0mpredict\u001b[0m\u001b[0;34m(\u001b[0m\u001b[0mself\u001b[0m\u001b[0;34m,\u001b[0m \u001b[0mX\u001b[0m\u001b[0;34m,\u001b[0m \u001b[0mbatch_size\u001b[0m\u001b[0;34m=\u001b[0m\u001b[0;32mNone\u001b[0m\u001b[0;34m,\u001b[0m \u001b[0mn_jobs\u001b[0m\u001b[0;34m=\u001b[0m\u001b[0;36m1\u001b[0m\u001b[0;34m)\u001b[0m\u001b[0;34m:\u001b[0m\u001b[0;34m\u001b[0m\u001b[0;34m\u001b[0m\u001b[0m\n\u001b[0;32m--> 530\u001b[0;31m         \u001b[0;32mreturn\u001b[0m \u001b[0mself\u001b[0m\u001b[0;34m.\u001b[0m\u001b[0mautoml_\u001b[0m\u001b[0;34m.\u001b[0m\u001b[0mpredict\u001b[0m\u001b[0;34m(\u001b[0m\u001b[0mX\u001b[0m\u001b[0;34m,\u001b[0m \u001b[0mbatch_size\u001b[0m\u001b[0;34m=\u001b[0m\u001b[0mbatch_size\u001b[0m\u001b[0;34m,\u001b[0m \u001b[0mn_jobs\u001b[0m\u001b[0;34m=\u001b[0m\u001b[0mn_jobs\u001b[0m\u001b[0;34m)\u001b[0m\u001b[0;34m\u001b[0m\u001b[0;34m\u001b[0m\u001b[0m\n\u001b[0m\u001b[1;32m    531\u001b[0m \u001b[0;34m\u001b[0m\u001b[0m\n\u001b[1;32m    532\u001b[0m     \u001b[0;32mdef\u001b[0m \u001b[0mpredict_proba\u001b[0m\u001b[0;34m(\u001b[0m\u001b[0mself\u001b[0m\u001b[0;34m,\u001b[0m \u001b[0mX\u001b[0m\u001b[0;34m,\u001b[0m \u001b[0mbatch_size\u001b[0m\u001b[0;34m=\u001b[0m\u001b[0;32mNone\u001b[0m\u001b[0;34m,\u001b[0m \u001b[0mn_jobs\u001b[0m\u001b[0;34m=\u001b[0m\u001b[0;36m1\u001b[0m\u001b[0;34m)\u001b[0m\u001b[0;34m:\u001b[0m\u001b[0;34m\u001b[0m\u001b[0;34m\u001b[0m\u001b[0m\n",
      "\u001b[0;32m~/opt/anaconda3/lib/python3.9/site-packages/autosklearn/automl.py\u001b[0m in \u001b[0;36mpredict\u001b[0;34m(self, X, batch_size, n_jobs)\u001b[0m\n\u001b[1;32m   2087\u001b[0m \u001b[0;34m\u001b[0m\u001b[0m\n\u001b[1;32m   2088\u001b[0m     \u001b[0;32mdef\u001b[0m \u001b[0mpredict\u001b[0m\u001b[0;34m(\u001b[0m\u001b[0mself\u001b[0m\u001b[0;34m,\u001b[0m \u001b[0mX\u001b[0m\u001b[0;34m,\u001b[0m \u001b[0mbatch_size\u001b[0m\u001b[0;34m=\u001b[0m\u001b[0;32mNone\u001b[0m\u001b[0;34m,\u001b[0m \u001b[0mn_jobs\u001b[0m\u001b[0;34m=\u001b[0m\u001b[0;36m1\u001b[0m\u001b[0;34m)\u001b[0m\u001b[0;34m:\u001b[0m\u001b[0;34m\u001b[0m\u001b[0;34m\u001b[0m\u001b[0m\n\u001b[0;32m-> 2089\u001b[0;31m         predicted_probabilities = super().predict(X, batch_size=batch_size,\n\u001b[0m\u001b[1;32m   2090\u001b[0m                                                   n_jobs=n_jobs)\n\u001b[1;32m   2091\u001b[0m \u001b[0;34m\u001b[0m\u001b[0m\n",
      "\u001b[0;32m~/opt/anaconda3/lib/python3.9/site-packages/autosklearn/automl.py\u001b[0m in \u001b[0;36mpredict\u001b[0;34m(self, X, batch_size, n_jobs)\u001b[0m\n\u001b[1;32m   1389\u001b[0m \u001b[0;34m\u001b[0m\u001b[0m\n\u001b[1;32m   1390\u001b[0m         \u001b[0;32mif\u001b[0m \u001b[0mself\u001b[0m\u001b[0;34m.\u001b[0m\u001b[0mmodels_\u001b[0m \u001b[0;32mis\u001b[0m \u001b[0;32mNone\u001b[0m \u001b[0;32mor\u001b[0m \u001b[0mlen\u001b[0m\u001b[0;34m(\u001b[0m\u001b[0mself\u001b[0m\u001b[0;34m.\u001b[0m\u001b[0mmodels_\u001b[0m\u001b[0;34m)\u001b[0m \u001b[0;34m==\u001b[0m \u001b[0;36m0\u001b[0m \u001b[0;32mor\u001b[0m \u001b[0mself\u001b[0m\u001b[0;34m.\u001b[0m\u001b[0mensemble_\u001b[0m \u001b[0;32mis\u001b[0m \u001b[0;32mNone\u001b[0m\u001b[0;34m:\u001b[0m\u001b[0;34m\u001b[0m\u001b[0;34m\u001b[0m\u001b[0m\n\u001b[0;32m-> 1391\u001b[0;31m             \u001b[0mself\u001b[0m\u001b[0;34m.\u001b[0m\u001b[0m_load_models\u001b[0m\u001b[0;34m(\u001b[0m\u001b[0;34m)\u001b[0m\u001b[0;34m\u001b[0m\u001b[0;34m\u001b[0m\u001b[0m\n\u001b[0m\u001b[1;32m   1392\u001b[0m \u001b[0;34m\u001b[0m\u001b[0m\n\u001b[1;32m   1393\u001b[0m         \u001b[0;31m# If self.ensemble_ is None, it means that ensemble_size is set to zero.\u001b[0m\u001b[0;34m\u001b[0m\u001b[0;34m\u001b[0m\u001b[0m\n",
      "\u001b[0;32m~/opt/anaconda3/lib/python3.9/site-packages/autosklearn/automl.py\u001b[0m in \u001b[0;36m_load_models\u001b[0;34m(self)\u001b[0m\n\u001b[1;32m   1516\u001b[0m         \u001b[0;31m# If no ensemble is loaded, try to get the best performing model\u001b[0m\u001b[0;34m\u001b[0m\u001b[0;34m\u001b[0m\u001b[0m\n\u001b[1;32m   1517\u001b[0m         \u001b[0;32mif\u001b[0m \u001b[0;32mnot\u001b[0m \u001b[0mself\u001b[0m\u001b[0;34m.\u001b[0m\u001b[0mensemble_\u001b[0m\u001b[0;34m:\u001b[0m\u001b[0;34m\u001b[0m\u001b[0;34m\u001b[0m\u001b[0m\n\u001b[0;32m-> 1518\u001b[0;31m             \u001b[0mself\u001b[0m\u001b[0;34m.\u001b[0m\u001b[0mensemble_\u001b[0m \u001b[0;34m=\u001b[0m \u001b[0mself\u001b[0m\u001b[0;34m.\u001b[0m\u001b[0m_load_best_individual_model\u001b[0m\u001b[0;34m(\u001b[0m\u001b[0;34m)\u001b[0m\u001b[0;34m\u001b[0m\u001b[0;34m\u001b[0m\u001b[0m\n\u001b[0m\u001b[1;32m   1519\u001b[0m \u001b[0;34m\u001b[0m\u001b[0m\n\u001b[1;32m   1520\u001b[0m         \u001b[0;32mif\u001b[0m \u001b[0mself\u001b[0m\u001b[0;34m.\u001b[0m\u001b[0mensemble_\u001b[0m\u001b[0;34m:\u001b[0m\u001b[0;34m\u001b[0m\u001b[0;34m\u001b[0m\u001b[0m\n",
      "\u001b[0;32m~/opt/anaconda3/lib/python3.9/site-packages/autosklearn/automl.py\u001b[0m in \u001b[0;36m_load_best_individual_model\u001b[0;34m(self)\u001b[0m\n\u001b[1;32m   1569\u001b[0m             \u001b[0mmetric\u001b[0m\u001b[0;34m=\u001b[0m\u001b[0mself\u001b[0m\u001b[0;34m.\u001b[0m\u001b[0m_metric\u001b[0m\u001b[0;34m,\u001b[0m\u001b[0;34m\u001b[0m\u001b[0;34m\u001b[0m\u001b[0m\n\u001b[1;32m   1570\u001b[0m             \u001b[0mseed\u001b[0m\u001b[0;34m=\u001b[0m\u001b[0mself\u001b[0m\u001b[0;34m.\u001b[0m\u001b[0m_seed\u001b[0m\u001b[0;34m,\u001b[0m\u001b[0;34m\u001b[0m\u001b[0;34m\u001b[0m\u001b[0m\n\u001b[0;32m-> 1571\u001b[0;31m             \u001b[0mrun_history\u001b[0m\u001b[0;34m=\u001b[0m\u001b[0mself\u001b[0m\u001b[0;34m.\u001b[0m\u001b[0mrunhistory_\u001b[0m\u001b[0;34m,\u001b[0m\u001b[0;34m\u001b[0m\u001b[0;34m\u001b[0m\u001b[0m\n\u001b[0m\u001b[1;32m   1572\u001b[0m             \u001b[0mbackend\u001b[0m\u001b[0;34m=\u001b[0m\u001b[0mself\u001b[0m\u001b[0;34m.\u001b[0m\u001b[0m_backend\u001b[0m\u001b[0;34m,\u001b[0m\u001b[0;34m\u001b[0m\u001b[0;34m\u001b[0m\u001b[0m\n\u001b[1;32m   1573\u001b[0m         )\n",
      "\u001b[0;31mAttributeError\u001b[0m: 'AutoMLClassifier' object has no attribute 'runhistory_'"
     ]
    }
   ],
   "source": [
    "predictions= cls.predict(x_test)"
   ]
  },
  {
   "cell_type": "code",
   "execution_count": 22,
   "id": "913e1b0b",
   "metadata": {},
   "outputs": [
    {
     "ename": "NameError",
     "evalue": "name 'predicrions' is not defined",
     "output_type": "error",
     "traceback": [
      "\u001b[0;31m---------------------------------------------------------------------------\u001b[0m",
      "\u001b[0;31mNameError\u001b[0m                                 Traceback (most recent call last)",
      "\u001b[0;32m/var/folders/rr/62tz31v139gdkk0h36fmvq240000gn/T/ipykernel_1668/2333118289.py\u001b[0m in \u001b[0;36m<module>\u001b[0;34m\u001b[0m\n\u001b[0;32m----> 1\u001b[0;31m \u001b[0maccuracy\u001b[0m \u001b[0;34m=\u001b[0m \u001b[0maccuracy_score\u001b[0m\u001b[0;34m(\u001b[0m\u001b[0my_test\u001b[0m\u001b[0;34m,\u001b[0m\u001b[0mpredicrions\u001b[0m\u001b[0;34m)\u001b[0m\u001b[0;34m\u001b[0m\u001b[0;34m\u001b[0m\u001b[0m\n\u001b[0m",
      "\u001b[0;31mNameError\u001b[0m: name 'predicrions' is not defined"
     ]
    }
   ],
   "source": [
    "accuracy = accuracy_score(y_test,predicrions)"
   ]
  },
  {
   "cell_type": "code",
   "execution_count": null,
   "id": "7f112066",
   "metadata": {},
   "outputs": [],
   "source": []
  }
 ],
 "metadata": {
  "kernelspec": {
   "display_name": "Python 3 (ipykernel)",
   "language": "python",
   "name": "python3"
  },
  "language_info": {
   "codemirror_mode": {
    "name": "ipython",
    "version": 3
   },
   "file_extension": ".py",
   "mimetype": "text/x-python",
   "name": "python",
   "nbconvert_exporter": "python",
   "pygments_lexer": "ipython3",
   "version": "3.9.7"
  }
 },
 "nbformat": 4,
 "nbformat_minor": 5
}
