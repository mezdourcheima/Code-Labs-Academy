{
 "cells": [
  {
   "cell_type": "code",
   "execution_count": 1,
   "id": "f5c9bd8d",
   "metadata": {},
   "outputs": [
    {
     "name": "stdout",
     "output_type": "stream",
     "text": [
      "The operation couldn’t be completed. Unable to locate a Java Runtime.\n",
      "Please visit http://www.java.com for information on installing Java.\n",
      "\n",
      "  % Total    % Received % Xferd  Average Speed   Time    Time     Time  Current\n",
      "                                 Dload  Upload   Total   Spent    Left  Speed\n",
      "100   259  100   259    0     0    474      0 --:--:-- --:--:-- --:--:--   474\n",
      "Requirement already satisfied: setuptools in /Users/cheimamezdour/opt/anaconda3/lib/python3.9/site-packages (60.9.3)\n",
      "\u001b[33mWARNING: You are using pip version 22.0.4; however, version 22.1.2 is available.\n",
      "You should consider upgrading via the '/Users/cheimamezdour/opt/anaconda3/bin/python -m pip install --upgrade pip' command.\u001b[0m\u001b[33m\n",
      "\u001b[0mRequirement already satisfied: typing_extensions in /Users/cheimamezdour/opt/anaconda3/lib/python3.9/site-packages (3.10.0.2)\n",
      "\u001b[33mWARNING: You are using pip version 22.0.4; however, version 22.1.2 is available.\n",
      "You should consider upgrading via the '/Users/cheimamezdour/opt/anaconda3/bin/python -m pip install --upgrade pip' command.\u001b[0m\u001b[33m\n",
      "\u001b[0mRequirement already satisfied: distro in /Users/cheimamezdour/opt/anaconda3/lib/python3.9/site-packages (1.7.0)\n",
      "\u001b[33mWARNING: You are using pip version 22.0.4; however, version 22.1.2 is available.\n",
      "You should consider upgrading via the '/Users/cheimamezdour/opt/anaconda3/bin/python -m pip install --upgrade pip' command.\u001b[0m\u001b[33m\n",
      "\u001b[0mRequirement already satisfied: numpy>=1.9.0 in /Users/cheimamezdour/opt/anaconda3/lib/python3.9/site-packages (1.22.4)\n",
      "\u001b[33mWARNING: You are using pip version 22.0.4; however, version 22.1.2 is available.\n",
      "You should consider upgrading via the '/Users/cheimamezdour/opt/anaconda3/bin/python -m pip install --upgrade pip' command.\u001b[0m\u001b[33m\n",
      "\u001b[0mRequirement already satisfied: scipy>=1.7.0 in /Users/cheimamezdour/opt/anaconda3/lib/python3.9/site-packages (1.7.1)\n",
      "Requirement already satisfied: numpy<1.23.0,>=1.16.5 in /Users/cheimamezdour/opt/anaconda3/lib/python3.9/site-packages (from scipy>=1.7.0) (1.22.4)\n",
      "\u001b[33mWARNING: You are using pip version 22.0.4; however, version 22.1.2 is available.\n",
      "You should consider upgrading via the '/Users/cheimamezdour/opt/anaconda3/bin/python -m pip install --upgrade pip' command.\u001b[0m\u001b[33m\n",
      "\u001b[0mRequirement already satisfied: joblib in /Users/cheimamezdour/opt/anaconda3/lib/python3.9/site-packages (1.1.0)\n",
      "\u001b[33mWARNING: You are using pip version 22.0.4; however, version 22.1.2 is available.\n",
      "You should consider upgrading via the '/Users/cheimamezdour/opt/anaconda3/bin/python -m pip install --upgrade pip' command.\u001b[0m\u001b[33m\n",
      "\u001b[0mRequirement already satisfied: scikit-learn<0.25.0,>=0.24.0 in /Users/cheimamezdour/opt/anaconda3/lib/python3.9/site-packages (0.24.2)\n",
      "Requirement already satisfied: scipy>=0.19.1 in /Users/cheimamezdour/opt/anaconda3/lib/python3.9/site-packages (from scikit-learn<0.25.0,>=0.24.0) (1.7.1)\n",
      "Requirement already satisfied: joblib>=0.11 in /Users/cheimamezdour/opt/anaconda3/lib/python3.9/site-packages (from scikit-learn<0.25.0,>=0.24.0) (1.1.0)\n",
      "Requirement already satisfied: numpy>=1.13.3 in /Users/cheimamezdour/opt/anaconda3/lib/python3.9/site-packages (from scikit-learn<0.25.0,>=0.24.0) (1.22.4)\n",
      "Requirement already satisfied: threadpoolctl>=2.0.0 in /Users/cheimamezdour/opt/anaconda3/lib/python3.9/site-packages (from scikit-learn<0.25.0,>=0.24.0) (2.2.0)\n",
      "\u001b[33mWARNING: You are using pip version 22.0.4; however, version 22.1.2 is available.\n",
      "You should consider upgrading via the '/Users/cheimamezdour/opt/anaconda3/bin/python -m pip install --upgrade pip' command.\u001b[0m\u001b[33m\n",
      "\u001b[0mRequirement already satisfied: dask>=2021.12 in /Users/cheimamezdour/opt/anaconda3/lib/python3.9/site-packages (2022.6.1)\n",
      "Requirement already satisfied: cloudpickle>=1.1.1 in /Users/cheimamezdour/opt/anaconda3/lib/python3.9/site-packages (from dask>=2021.12) (2.0.0)\n",
      "Requirement already satisfied: pyyaml>=5.3.1 in /Users/cheimamezdour/opt/anaconda3/lib/python3.9/site-packages (from dask>=2021.12) (6.0)\n",
      "Requirement already satisfied: packaging>=20.0 in /Users/cheimamezdour/opt/anaconda3/lib/python3.9/site-packages (from dask>=2021.12) (21.0)\n",
      "Requirement already satisfied: toolz>=0.8.2 in /Users/cheimamezdour/opt/anaconda3/lib/python3.9/site-packages (from dask>=2021.12) (0.11.1)\n",
      "Requirement already satisfied: fsspec>=0.6.0 in /Users/cheimamezdour/opt/anaconda3/lib/python3.9/site-packages (from dask>=2021.12) (2021.8.1)\n",
      "Requirement already satisfied: partd>=0.3.10 in /Users/cheimamezdour/opt/anaconda3/lib/python3.9/site-packages (from dask>=2021.12) (1.2.0)\n",
      "Requirement already satisfied: pyparsing>=2.0.2 in /Users/cheimamezdour/opt/anaconda3/lib/python3.9/site-packages (from packaging>=20.0->dask>=2021.12) (3.0.4)\n",
      "Requirement already satisfied: locket in /Users/cheimamezdour/opt/anaconda3/lib/python3.9/site-packages (from partd>=0.3.10->dask>=2021.12) (1.0.0)\n",
      "\u001b[33mWARNING: You are using pip version 22.0.4; however, version 22.1.2 is available.\n",
      "You should consider upgrading via the '/Users/cheimamezdour/opt/anaconda3/bin/python -m pip install --upgrade pip' command.\u001b[0m\u001b[33m\n",
      "\u001b[0mRequirement already satisfied: distributed>=2012.12 in /Users/cheimamezdour/opt/anaconda3/lib/python3.9/site-packages (2022.6.1)\n",
      "Requirement already satisfied: jinja2 in /Users/cheimamezdour/opt/anaconda3/lib/python3.9/site-packages (from distributed>=2012.12) (2.11.3)\n",
      "Requirement already satisfied: sortedcontainers!=2.0.0,!=2.0.1 in /Users/cheimamezdour/opt/anaconda3/lib/python3.9/site-packages (from distributed>=2012.12) (2.4.0)\n",
      "Requirement already satisfied: urllib3 in /Users/cheimamezdour/opt/anaconda3/lib/python3.9/site-packages (from distributed>=2012.12) (1.26.7)\n",
      "Requirement already satisfied: psutil>=5.0 in /Users/cheimamezdour/opt/anaconda3/lib/python3.9/site-packages (from distributed>=2012.12) (5.8.0)\n",
      "Requirement already satisfied: pyyaml in /Users/cheimamezdour/opt/anaconda3/lib/python3.9/site-packages (from distributed>=2012.12) (6.0)\n",
      "Requirement already satisfied: locket>=1.0.0 in /Users/cheimamezdour/opt/anaconda3/lib/python3.9/site-packages (from distributed>=2012.12) (1.0.0)\n",
      "Requirement already satisfied: click>=6.6 in /Users/cheimamezdour/opt/anaconda3/lib/python3.9/site-packages (from distributed>=2012.12) (8.0.3)\n",
      "Requirement already satisfied: msgpack>=0.6.0 in /Users/cheimamezdour/opt/anaconda3/lib/python3.9/site-packages (from distributed>=2012.12) (1.0.2)\n",
      "Requirement already satisfied: packaging>=20.0 in /Users/cheimamezdour/opt/anaconda3/lib/python3.9/site-packages (from distributed>=2012.12) (21.0)\n",
      "Requirement already satisfied: zict>=0.1.3 in /Users/cheimamezdour/opt/anaconda3/lib/python3.9/site-packages (from distributed>=2012.12) (2.0.0)\n",
      "Requirement already satisfied: dask==2022.6.1 in /Users/cheimamezdour/opt/anaconda3/lib/python3.9/site-packages (from distributed>=2012.12) (2022.6.1)\n",
      "Requirement already satisfied: cloudpickle>=1.5.0 in /Users/cheimamezdour/opt/anaconda3/lib/python3.9/site-packages (from distributed>=2012.12) (2.0.0)\n",
      "Requirement already satisfied: tornado>=6.0.3 in /Users/cheimamezdour/opt/anaconda3/lib/python3.9/site-packages (from distributed>=2012.12) (6.1)\n",
      "Requirement already satisfied: toolz>=0.8.2 in /Users/cheimamezdour/opt/anaconda3/lib/python3.9/site-packages (from distributed>=2012.12) (0.11.1)\n",
      "Requirement already satisfied: tblib>=1.6.0 in /Users/cheimamezdour/opt/anaconda3/lib/python3.9/site-packages (from distributed>=2012.12) (1.7.0)\n",
      "Requirement already satisfied: partd>=0.3.10 in /Users/cheimamezdour/opt/anaconda3/lib/python3.9/site-packages (from dask==2022.6.1->distributed>=2012.12) (1.2.0)\n",
      "Requirement already satisfied: fsspec>=0.6.0 in /Users/cheimamezdour/opt/anaconda3/lib/python3.9/site-packages (from dask==2022.6.1->distributed>=2012.12) (2021.8.1)\n",
      "Requirement already satisfied: pyparsing>=2.0.2 in /Users/cheimamezdour/opt/anaconda3/lib/python3.9/site-packages (from packaging>=20.0->distributed>=2012.12) (3.0.4)\n",
      "Requirement already satisfied: heapdict in /Users/cheimamezdour/opt/anaconda3/lib/python3.9/site-packages (from zict>=0.1.3->distributed>=2012.12) (1.0.1)\n",
      "Requirement already satisfied: MarkupSafe>=0.23 in /Users/cheimamezdour/opt/anaconda3/lib/python3.9/site-packages (from jinja2->distributed>=2012.12) (1.1.1)\n"
     ]
    },
    {
     "name": "stdout",
     "output_type": "stream",
     "text": [
      "\u001b[33mWARNING: You are using pip version 22.0.4; however, version 22.1.2 is available.\n",
      "You should consider upgrading via the '/Users/cheimamezdour/opt/anaconda3/bin/python -m pip install --upgrade pip' command.\u001b[0m\u001b[33m\n",
      "\u001b[0mRequirement already satisfied: pyyaml in /Users/cheimamezdour/opt/anaconda3/lib/python3.9/site-packages (6.0)\n",
      "\u001b[33mWARNING: You are using pip version 22.0.4; however, version 22.1.2 is available.\n",
      "You should consider upgrading via the '/Users/cheimamezdour/opt/anaconda3/bin/python -m pip install --upgrade pip' command.\u001b[0m\u001b[33m\n",
      "\u001b[0mRequirement already satisfied: pandas>=1.0 in /Users/cheimamezdour/opt/anaconda3/lib/python3.9/site-packages (1.3.5)\n",
      "Requirement already satisfied: numpy>=1.17.3 in /Users/cheimamezdour/opt/anaconda3/lib/python3.9/site-packages (from pandas>=1.0) (1.22.4)\n",
      "Requirement already satisfied: pytz>=2017.3 in /Users/cheimamezdour/opt/anaconda3/lib/python3.9/site-packages (from pandas>=1.0) (2021.3)\n",
      "Requirement already satisfied: python-dateutil>=2.7.3 in /Users/cheimamezdour/opt/anaconda3/lib/python3.9/site-packages (from pandas>=1.0) (2.8.2)\n",
      "Requirement already satisfied: six>=1.5 in /Users/cheimamezdour/opt/anaconda3/lib/python3.9/site-packages (from python-dateutil>=2.7.3->pandas>=1.0) (1.16.0)\n",
      "\u001b[33mWARNING: You are using pip version 22.0.4; however, version 22.1.2 is available.\n",
      "You should consider upgrading via the '/Users/cheimamezdour/opt/anaconda3/bin/python -m pip install --upgrade pip' command.\u001b[0m\u001b[33m\n",
      "\u001b[0mRequirement already satisfied: liac-arff in /Users/cheimamezdour/opt/anaconda3/lib/python3.9/site-packages (2.5.0)\n",
      "\u001b[33mWARNING: You are using pip version 22.0.4; however, version 22.1.2 is available.\n",
      "You should consider upgrading via the '/Users/cheimamezdour/opt/anaconda3/bin/python -m pip install --upgrade pip' command.\u001b[0m\u001b[33m\n",
      "\u001b[0mRequirement already satisfied: threadpoolctl in /Users/cheimamezdour/opt/anaconda3/lib/python3.9/site-packages (2.2.0)\n",
      "\u001b[33mWARNING: You are using pip version 22.0.4; however, version 22.1.2 is available.\n",
      "You should consider upgrading via the '/Users/cheimamezdour/opt/anaconda3/bin/python -m pip install --upgrade pip' command.\u001b[0m\u001b[33m\n",
      "\u001b[0mRequirement already satisfied: ConfigSpace<0.5,>=0.4.21 in /Users/cheimamezdour/opt/anaconda3/lib/python3.9/site-packages (0.4.21)\n",
      "Requirement already satisfied: cython in /Users/cheimamezdour/opt/anaconda3/lib/python3.9/site-packages (from ConfigSpace<0.5,>=0.4.21) (0.29.24)\n",
      "Requirement already satisfied: pyparsing in /Users/cheimamezdour/opt/anaconda3/lib/python3.9/site-packages (from ConfigSpace<0.5,>=0.4.21) (3.0.4)\n",
      "Requirement already satisfied: numpy in /Users/cheimamezdour/opt/anaconda3/lib/python3.9/site-packages (from ConfigSpace<0.5,>=0.4.21) (1.22.4)\n",
      "Requirement already satisfied: scipy in /Users/cheimamezdour/opt/anaconda3/lib/python3.9/site-packages (from ConfigSpace<0.5,>=0.4.21) (1.7.1)\n",
      "\u001b[33mWARNING: You are using pip version 22.0.4; however, version 22.1.2 is available.\n",
      "You should consider upgrading via the '/Users/cheimamezdour/opt/anaconda3/bin/python -m pip install --upgrade pip' command.\u001b[0m\u001b[33m\n",
      "\u001b[0mRequirement already satisfied: pynisher<0.7,>=0.6.3 in /Users/cheimamezdour/opt/anaconda3/lib/python3.9/site-packages (0.6.4)\n",
      "Requirement already satisfied: setuptools in /Users/cheimamezdour/opt/anaconda3/lib/python3.9/site-packages (from pynisher<0.7,>=0.6.3) (60.9.3)\n",
      "Requirement already satisfied: psutil in /Users/cheimamezdour/opt/anaconda3/lib/python3.9/site-packages (from pynisher<0.7,>=0.6.3) (5.8.0)\n",
      "\u001b[33mWARNING: You are using pip version 22.0.4; however, version 22.1.2 is available.\n",
      "You should consider upgrading via the '/Users/cheimamezdour/opt/anaconda3/bin/python -m pip install --upgrade pip' command.\u001b[0m\u001b[33m\n",
      "\u001b[0mRequirement already satisfied: pyrfr<0.9,>=0.8.1 in /Users/cheimamezdour/opt/anaconda3/lib/python3.9/site-packages (0.8.3)\n",
      "\u001b[33mWARNING: You are using pip version 22.0.4; however, version 22.1.2 is available.\n",
      "You should consider upgrading via the '/Users/cheimamezdour/opt/anaconda3/bin/python -m pip install --upgrade pip' command.\u001b[0m\u001b[33m\n",
      "\u001b[0mRequirement already satisfied: smac<1.3,>=1.2 in /Users/cheimamezdour/opt/anaconda3/lib/python3.9/site-packages (1.2)\n",
      "Requirement already satisfied: psutil in /Users/cheimamezdour/opt/anaconda3/lib/python3.9/site-packages (from smac<1.3,>=1.2) (5.8.0)\n",
      "Requirement already satisfied: pynisher>=0.4.1 in /Users/cheimamezdour/opt/anaconda3/lib/python3.9/site-packages (from smac<1.3,>=1.2) (0.6.4)\n",
      "Requirement already satisfied: numpy>=1.7.1 in /Users/cheimamezdour/opt/anaconda3/lib/python3.9/site-packages (from smac<1.3,>=1.2) (1.22.4)\n",
      "Requirement already satisfied: scikit-learn>=0.22.0 in /Users/cheimamezdour/opt/anaconda3/lib/python3.9/site-packages (from smac<1.3,>=1.2) (0.24.2)\n",
      "Requirement already satisfied: distributed in /Users/cheimamezdour/opt/anaconda3/lib/python3.9/site-packages (from smac<1.3,>=1.2) (2022.6.1)\n",
      "Requirement already satisfied: joblib in /Users/cheimamezdour/opt/anaconda3/lib/python3.9/site-packages (from smac<1.3,>=1.2) (1.1.0)\n",
      "Requirement already satisfied: dask in /Users/cheimamezdour/opt/anaconda3/lib/python3.9/site-packages (from smac<1.3,>=1.2) (2022.6.1)\n",
      "Requirement already satisfied: emcee>=3.0.0 in /Users/cheimamezdour/opt/anaconda3/lib/python3.9/site-packages (from smac<1.3,>=1.2) (3.1.2)\n",
      "Requirement already satisfied: pyrfr>=0.8.0 in /Users/cheimamezdour/opt/anaconda3/lib/python3.9/site-packages (from smac<1.3,>=1.2) (0.8.3)\n",
      "Requirement already satisfied: ConfigSpace<0.5,>=0.4.14 in /Users/cheimamezdour/opt/anaconda3/lib/python3.9/site-packages (from smac<1.3,>=1.2) (0.4.21)\n",
      "Requirement already satisfied: scipy>=1.7.0 in /Users/cheimamezdour/opt/anaconda3/lib/python3.9/site-packages (from smac<1.3,>=1.2) (1.7.1)\n",
      "Requirement already satisfied: pyparsing in /Users/cheimamezdour/opt/anaconda3/lib/python3.9/site-packages (from ConfigSpace<0.5,>=0.4.14->smac<1.3,>=1.2) (3.0.4)\n",
      "Requirement already satisfied: cython in /Users/cheimamezdour/opt/anaconda3/lib/python3.9/site-packages (from ConfigSpace<0.5,>=0.4.14->smac<1.3,>=1.2) (0.29.24)\n",
      "Requirement already satisfied: setuptools in /Users/cheimamezdour/opt/anaconda3/lib/python3.9/site-packages (from pynisher>=0.4.1->smac<1.3,>=1.2) (60.9.3)\n",
      "Requirement already satisfied: threadpoolctl>=2.0.0 in /Users/cheimamezdour/opt/anaconda3/lib/python3.9/site-packages (from scikit-learn>=0.22.0->smac<1.3,>=1.2) (2.2.0)\n",
      "Requirement already satisfied: pyyaml>=5.3.1 in /Users/cheimamezdour/opt/anaconda3/lib/python3.9/site-packages (from dask->smac<1.3,>=1.2) (6.0)\n",
      "Requirement already satisfied: packaging>=20.0 in /Users/cheimamezdour/opt/anaconda3/lib/python3.9/site-packages (from dask->smac<1.3,>=1.2) (21.0)\n",
      "Requirement already satisfied: partd>=0.3.10 in /Users/cheimamezdour/opt/anaconda3/lib/python3.9/site-packages (from dask->smac<1.3,>=1.2) (1.2.0)\n",
      "Requirement already satisfied: fsspec>=0.6.0 in /Users/cheimamezdour/opt/anaconda3/lib/python3.9/site-packages (from dask->smac<1.3,>=1.2) (2021.8.1)\n",
      "Requirement already satisfied: cloudpickle>=1.1.1 in /Users/cheimamezdour/opt/anaconda3/lib/python3.9/site-packages (from dask->smac<1.3,>=1.2) (2.0.0)\n",
      "Requirement already satisfied: toolz>=0.8.2 in /Users/cheimamezdour/opt/anaconda3/lib/python3.9/site-packages (from dask->smac<1.3,>=1.2) (0.11.1)\n",
      "Requirement already satisfied: msgpack>=0.6.0 in /Users/cheimamezdour/opt/anaconda3/lib/python3.9/site-packages (from distributed->smac<1.3,>=1.2) (1.0.2)\n",
      "Requirement already satisfied: tornado>=6.0.3 in /Users/cheimamezdour/opt/anaconda3/lib/python3.9/site-packages (from distributed->smac<1.3,>=1.2) (6.1)\n",
      "Requirement already satisfied: zict>=0.1.3 in /Users/cheimamezdour/opt/anaconda3/lib/python3.9/site-packages (from distributed->smac<1.3,>=1.2) (2.0.0)\n",
      "Requirement already satisfied: click>=6.6 in /Users/cheimamezdour/opt/anaconda3/lib/python3.9/site-packages (from distributed->smac<1.3,>=1.2) (8.0.3)\n",
      "Requirement already satisfied: locket>=1.0.0 in /Users/cheimamezdour/opt/anaconda3/lib/python3.9/site-packages (from distributed->smac<1.3,>=1.2) (1.0.0)\n",
      "Requirement already satisfied: sortedcontainers!=2.0.0,!=2.0.1 in /Users/cheimamezdour/opt/anaconda3/lib/python3.9/site-packages (from distributed->smac<1.3,>=1.2) (2.4.0)\n",
      "Requirement already satisfied: jinja2 in /Users/cheimamezdour/opt/anaconda3/lib/python3.9/site-packages (from distributed->smac<1.3,>=1.2) (2.11.3)\n",
      "Requirement already satisfied: tblib>=1.6.0 in /Users/cheimamezdour/opt/anaconda3/lib/python3.9/site-packages (from distributed->smac<1.3,>=1.2) (1.7.0)\n",
      "Requirement already satisfied: urllib3 in /Users/cheimamezdour/opt/anaconda3/lib/python3.9/site-packages (from distributed->smac<1.3,>=1.2) (1.26.7)\n"
     ]
    },
    {
     "name": "stdout",
     "output_type": "stream",
     "text": [
      "Requirement already satisfied: heapdict in /Users/cheimamezdour/opt/anaconda3/lib/python3.9/site-packages (from zict>=0.1.3->distributed->smac<1.3,>=1.2) (1.0.1)\n",
      "Requirement already satisfied: MarkupSafe>=0.23 in /Users/cheimamezdour/opt/anaconda3/lib/python3.9/site-packages (from jinja2->distributed->smac<1.3,>=1.2) (1.1.1)\n",
      "\u001b[33mWARNING: You are using pip version 22.0.4; however, version 22.1.2 is available.\n",
      "You should consider upgrading via the '/Users/cheimamezdour/opt/anaconda3/bin/python -m pip install --upgrade pip' command.\u001b[0m\u001b[33m\n",
      "\u001b[0mRequirement already satisfied: auto-sklearn in /Users/cheimamezdour/opt/anaconda3/lib/python3.9/site-packages (0.14.7)\n",
      "Requirement already satisfied: typing-extensions in /Users/cheimamezdour/opt/anaconda3/lib/python3.9/site-packages (from auto-sklearn) (3.10.0.2)\n",
      "Requirement already satisfied: distro in /Users/cheimamezdour/opt/anaconda3/lib/python3.9/site-packages (from auto-sklearn) (1.7.0)\n",
      "Requirement already satisfied: distributed>=2012.12 in /Users/cheimamezdour/opt/anaconda3/lib/python3.9/site-packages (from auto-sklearn) (2022.6.1)\n",
      "Requirement already satisfied: ConfigSpace<0.5,>=0.4.21 in /Users/cheimamezdour/opt/anaconda3/lib/python3.9/site-packages (from auto-sklearn) (0.4.21)\n",
      "Requirement already satisfied: dask>=2021.12 in /Users/cheimamezdour/opt/anaconda3/lib/python3.9/site-packages (from auto-sklearn) (2022.6.1)\n",
      "Requirement already satisfied: threadpoolctl in /Users/cheimamezdour/opt/anaconda3/lib/python3.9/site-packages (from auto-sklearn) (2.2.0)\n",
      "Requirement already satisfied: pyrfr<0.9,>=0.8.1 in /Users/cheimamezdour/opt/anaconda3/lib/python3.9/site-packages (from auto-sklearn) (0.8.3)\n",
      "Requirement already satisfied: setuptools in /Users/cheimamezdour/opt/anaconda3/lib/python3.9/site-packages (from auto-sklearn) (60.9.3)\n",
      "Requirement already satisfied: scipy>=1.7.0 in /Users/cheimamezdour/opt/anaconda3/lib/python3.9/site-packages (from auto-sklearn) (1.7.1)\n",
      "Requirement already satisfied: numpy>=1.9.0 in /Users/cheimamezdour/opt/anaconda3/lib/python3.9/site-packages (from auto-sklearn) (1.22.4)\n",
      "Requirement already satisfied: liac-arff in /Users/cheimamezdour/opt/anaconda3/lib/python3.9/site-packages (from auto-sklearn) (2.5.0)\n",
      "Requirement already satisfied: smac<1.3,>=1.2 in /Users/cheimamezdour/opt/anaconda3/lib/python3.9/site-packages (from auto-sklearn) (1.2)\n",
      "Requirement already satisfied: joblib in /Users/cheimamezdour/opt/anaconda3/lib/python3.9/site-packages (from auto-sklearn) (1.1.0)\n",
      "Requirement already satisfied: pyyaml in /Users/cheimamezdour/opt/anaconda3/lib/python3.9/site-packages (from auto-sklearn) (6.0)\n",
      "Requirement already satisfied: pandas>=1.0 in /Users/cheimamezdour/opt/anaconda3/lib/python3.9/site-packages (from auto-sklearn) (1.3.5)\n",
      "Requirement already satisfied: pynisher<0.7,>=0.6.3 in /Users/cheimamezdour/opt/anaconda3/lib/python3.9/site-packages (from auto-sklearn) (0.6.4)\n",
      "Requirement already satisfied: scikit-learn<0.25.0,>=0.24.0 in /Users/cheimamezdour/opt/anaconda3/lib/python3.9/site-packages (from auto-sklearn) (0.24.2)\n",
      "Requirement already satisfied: cython in /Users/cheimamezdour/opt/anaconda3/lib/python3.9/site-packages (from ConfigSpace<0.5,>=0.4.21->auto-sklearn) (0.29.24)\n",
      "Requirement already satisfied: pyparsing in /Users/cheimamezdour/opt/anaconda3/lib/python3.9/site-packages (from ConfigSpace<0.5,>=0.4.21->auto-sklearn) (3.0.4)\n",
      "Requirement already satisfied: partd>=0.3.10 in /Users/cheimamezdour/opt/anaconda3/lib/python3.9/site-packages (from dask>=2021.12->auto-sklearn) (1.2.0)\n",
      "Requirement already satisfied: fsspec>=0.6.0 in /Users/cheimamezdour/opt/anaconda3/lib/python3.9/site-packages (from dask>=2021.12->auto-sklearn) (2021.8.1)\n",
      "Requirement already satisfied: toolz>=0.8.2 in /Users/cheimamezdour/opt/anaconda3/lib/python3.9/site-packages (from dask>=2021.12->auto-sklearn) (0.11.1)\n",
      "Requirement already satisfied: cloudpickle>=1.1.1 in /Users/cheimamezdour/opt/anaconda3/lib/python3.9/site-packages (from dask>=2021.12->auto-sklearn) (2.0.0)\n",
      "Requirement already satisfied: packaging>=20.0 in /Users/cheimamezdour/opt/anaconda3/lib/python3.9/site-packages (from dask>=2021.12->auto-sklearn) (21.0)\n",
      "Requirement already satisfied: locket>=1.0.0 in /Users/cheimamezdour/opt/anaconda3/lib/python3.9/site-packages (from distributed>=2012.12->auto-sklearn) (1.0.0)\n",
      "Requirement already satisfied: tblib>=1.6.0 in /Users/cheimamezdour/opt/anaconda3/lib/python3.9/site-packages (from distributed>=2012.12->auto-sklearn) (1.7.0)\n",
      "Requirement already satisfied: urllib3 in /Users/cheimamezdour/opt/anaconda3/lib/python3.9/site-packages (from distributed>=2012.12->auto-sklearn) (1.26.7)\n",
      "Requirement already satisfied: tornado>=6.0.3 in /Users/cheimamezdour/opt/anaconda3/lib/python3.9/site-packages (from distributed>=2012.12->auto-sklearn) (6.1)\n",
      "Requirement already satisfied: jinja2 in /Users/cheimamezdour/opt/anaconda3/lib/python3.9/site-packages (from distributed>=2012.12->auto-sklearn) (2.11.3)\n",
      "Requirement already satisfied: msgpack>=0.6.0 in /Users/cheimamezdour/opt/anaconda3/lib/python3.9/site-packages (from distributed>=2012.12->auto-sklearn) (1.0.2)\n",
      "Requirement already satisfied: psutil>=5.0 in /Users/cheimamezdour/opt/anaconda3/lib/python3.9/site-packages (from distributed>=2012.12->auto-sklearn) (5.8.0)\n",
      "Requirement already satisfied: zict>=0.1.3 in /Users/cheimamezdour/opt/anaconda3/lib/python3.9/site-packages (from distributed>=2012.12->auto-sklearn) (2.0.0)\n",
      "Requirement already satisfied: click>=6.6 in /Users/cheimamezdour/opt/anaconda3/lib/python3.9/site-packages (from distributed>=2012.12->auto-sklearn) (8.0.3)\n",
      "Requirement already satisfied: sortedcontainers!=2.0.0,!=2.0.1 in /Users/cheimamezdour/opt/anaconda3/lib/python3.9/site-packages (from distributed>=2012.12->auto-sklearn) (2.4.0)\n",
      "Requirement already satisfied: pytz>=2017.3 in /Users/cheimamezdour/opt/anaconda3/lib/python3.9/site-packages (from pandas>=1.0->auto-sklearn) (2021.3)\n",
      "Requirement already satisfied: python-dateutil>=2.7.3 in /Users/cheimamezdour/opt/anaconda3/lib/python3.9/site-packages (from pandas>=1.0->auto-sklearn) (2.8.2)\n",
      "Requirement already satisfied: emcee>=3.0.0 in /Users/cheimamezdour/opt/anaconda3/lib/python3.9/site-packages (from smac<1.3,>=1.2->auto-sklearn) (3.1.2)\n",
      "Requirement already satisfied: six>=1.5 in /Users/cheimamezdour/opt/anaconda3/lib/python3.9/site-packages (from python-dateutil>=2.7.3->pandas>=1.0->auto-sklearn) (1.16.0)\n",
      "Requirement already satisfied: heapdict in /Users/cheimamezdour/opt/anaconda3/lib/python3.9/site-packages (from zict>=0.1.3->distributed>=2012.12->auto-sklearn) (1.0.1)\n",
      "Requirement already satisfied: MarkupSafe>=0.23 in /Users/cheimamezdour/opt/anaconda3/lib/python3.9/site-packages (from jinja2->distributed>=2012.12->auto-sklearn) (1.1.1)\n",
      "\u001b[33mWARNING: You are using pip version 22.0.4; however, version 22.1.2 is available.\n",
      "You should consider upgrading via the '/Users/cheimamezdour/opt/anaconda3/bin/python -m pip install --upgrade pip' command.\u001b[0m\u001b[33m\n",
      "\u001b[0m0.14.7\n"
     ]
    }
   ],
   "source": [
    "!apt install -y build-essential swig curl\n",
    "!curl https://raw.githubusercontent.com/automl/auto-sklearn/master/requirements.txt | xargs -n 1 -L 1 pip install\n",
    "!pip install auto-sklearn\n",
    "\n",
    "import autosklearn\n",
    "print(autosklearn.__version__)"
   ]
  },
  {
   "cell_type": "code",
   "execution_count": 1,
   "id": "ee710dcf",
   "metadata": {},
   "outputs": [],
   "source": [
    "from sklearn.datasets import load_breast_cancer\n",
    "from sklearn.model_selection import train_test_split\n",
    "from sklearn.metrics import accuracy_score\n",
    "import autosklearn.classification as automl"
   ]
  },
  {
   "cell_type": "code",
   "execution_count": 2,
   "id": "7dc1f838",
   "metadata": {},
   "outputs": [],
   "source": [
    "import warnings\n",
    "warnings.filterwarnings(\"ignore\")"
   ]
  },
  {
   "cell_type": "code",
   "execution_count": 3,
   "id": "f7e85527",
   "metadata": {},
   "outputs": [],
   "source": [
    "# load the data and split it into train, test\n",
    "X,Y = load_breast_cancer(return_X_y = True)\n",
    "\n",
    "X_train,X_test,y_train,y_test = train_test_split(X,Y, test_size=0.2, random_state=42)"
   ]
  },
  {
   "cell_type": "code",
   "execution_count": 4,
   "id": "34dc59dd",
   "metadata": {},
   "outputs": [],
   "source": [
    "cls = automl.AutoSklearnClassifier(time_left_for_this_task=1*60,per_run_time_limit=30, n_jobs=1)"
   ]
  },
  {
   "cell_type": "code",
   "execution_count": 12,
   "id": "f1d6c634",
   "metadata": {},
   "outputs": [
    {
     "name": "stdout",
     "output_type": "stream",
     "text": [
      "[ERROR] [2022-06-27 14:48:38,638:Client-AutoML(1):d814b5d6-f61f-11ec-82ac-aef5e3ee36cc] Dummy prediction failed with run state StatusType.CRASHED and additional output: {'error': 'Result queue is empty', 'exit_status': \"<class 'pynisher.limit_function_call.AnythingException'>\", 'subprocess_stdout': '', 'subprocess_stderr': 'Process pynisher function call:\\nTraceback (most recent call last):\\n  File \"/Users/cheimamezdour/opt/anaconda3/lib/python3.9/multiprocessing/process.py\", line 315, in _bootstrap\\n    self.run()\\n  File \"/Users/cheimamezdour/opt/anaconda3/lib/python3.9/multiprocessing/process.py\", line 108, in run\\n    self._target(*self._args, **self._kwargs)\\n  File \"/Users/cheimamezdour/opt/anaconda3/lib/python3.9/site-packages/pynisher/limit_function_call.py\", line 108, in subprocess_func\\n    resource.setrlimit(resource.RLIMIT_AS, (mem_in_b, mem_in_b))\\nValueError: current limit exceeds maximum limit\\n', 'exitcode': 1, 'configuration_origin': 'DUMMY'}.\n"
     ]
    },
    {
     "ename": "ValueError",
     "evalue": "Dummy prediction failed with run state StatusType.CRASHED and additional output: {'error': 'Result queue is empty', 'exit_status': \"<class 'pynisher.limit_function_call.AnythingException'>\", 'subprocess_stdout': '', 'subprocess_stderr': 'Process pynisher function call:\\nTraceback (most recent call last):\\n  File \"/Users/cheimamezdour/opt/anaconda3/lib/python3.9/multiprocessing/process.py\", line 315, in _bootstrap\\n    self.run()\\n  File \"/Users/cheimamezdour/opt/anaconda3/lib/python3.9/multiprocessing/process.py\", line 108, in run\\n    self._target(*self._args, **self._kwargs)\\n  File \"/Users/cheimamezdour/opt/anaconda3/lib/python3.9/site-packages/pynisher/limit_function_call.py\", line 108, in subprocess_func\\n    resource.setrlimit(resource.RLIMIT_AS, (mem_in_b, mem_in_b))\\nValueError: current limit exceeds maximum limit\\n', 'exitcode': 1, 'configuration_origin': 'DUMMY'}.",
     "output_type": "error",
     "traceback": [
      "\u001b[0;31m---------------------------------------------------------------------------\u001b[0m",
      "\u001b[0;31mValueError\u001b[0m                                Traceback (most recent call last)",
      "\u001b[0;32m/var/folders/rr/62tz31v139gdkk0h36fmvq240000gn/T/ipykernel_17068/3360955825.py\u001b[0m in \u001b[0;36m<module>\u001b[0;34m\u001b[0m\n\u001b[0;32m----> 1\u001b[0;31m \u001b[0mcls\u001b[0m\u001b[0;34m.\u001b[0m\u001b[0mfit\u001b[0m\u001b[0;34m(\u001b[0m\u001b[0mX_train\u001b[0m\u001b[0;34m,\u001b[0m\u001b[0my_train\u001b[0m\u001b[0;34m)\u001b[0m\u001b[0;34m\u001b[0m\u001b[0;34m\u001b[0m\u001b[0m\n\u001b[0m",
      "\u001b[0;32m~/opt/anaconda3/lib/python3.9/site-packages/autosklearn/estimators.py\u001b[0m in \u001b[0;36mfit\u001b[0;34m(self, X, y, X_test, y_test, feat_type, dataset_name)\u001b[0m\n\u001b[1;32m   1043\u001b[0m         \u001b[0mself\u001b[0m\u001b[0;34m.\u001b[0m\u001b[0mtarget_type\u001b[0m \u001b[0;34m=\u001b[0m \u001b[0mtarget_type\u001b[0m\u001b[0;34m\u001b[0m\u001b[0;34m\u001b[0m\u001b[0m\n\u001b[1;32m   1044\u001b[0m \u001b[0;34m\u001b[0m\u001b[0m\n\u001b[0;32m-> 1045\u001b[0;31m         super().fit(\n\u001b[0m\u001b[1;32m   1046\u001b[0m             \u001b[0mX\u001b[0m\u001b[0;34m=\u001b[0m\u001b[0mX\u001b[0m\u001b[0;34m,\u001b[0m\u001b[0;34m\u001b[0m\u001b[0;34m\u001b[0m\u001b[0m\n\u001b[1;32m   1047\u001b[0m             \u001b[0my\u001b[0m\u001b[0;34m=\u001b[0m\u001b[0my\u001b[0m\u001b[0;34m,\u001b[0m\u001b[0;34m\u001b[0m\u001b[0;34m\u001b[0m\u001b[0m\n",
      "\u001b[0;32m~/opt/anaconda3/lib/python3.9/site-packages/autosklearn/estimators.py\u001b[0m in \u001b[0;36mfit\u001b[0;34m(self, **kwargs)\u001b[0m\n\u001b[1;32m    373\u001b[0m         \u001b[0;32mif\u001b[0m \u001b[0mself\u001b[0m\u001b[0;34m.\u001b[0m\u001b[0mautoml_\u001b[0m \u001b[0;32mis\u001b[0m \u001b[0;32mNone\u001b[0m\u001b[0;34m:\u001b[0m\u001b[0;34m\u001b[0m\u001b[0;34m\u001b[0m\u001b[0m\n\u001b[1;32m    374\u001b[0m             \u001b[0mself\u001b[0m\u001b[0;34m.\u001b[0m\u001b[0mautoml_\u001b[0m \u001b[0;34m=\u001b[0m \u001b[0mself\u001b[0m\u001b[0;34m.\u001b[0m\u001b[0mbuild_automl\u001b[0m\u001b[0;34m(\u001b[0m\u001b[0;34m)\u001b[0m\u001b[0;34m\u001b[0m\u001b[0;34m\u001b[0m\u001b[0m\n\u001b[0;32m--> 375\u001b[0;31m         \u001b[0mself\u001b[0m\u001b[0;34m.\u001b[0m\u001b[0mautoml_\u001b[0m\u001b[0;34m.\u001b[0m\u001b[0mfit\u001b[0m\u001b[0;34m(\u001b[0m\u001b[0mload_models\u001b[0m\u001b[0;34m=\u001b[0m\u001b[0mself\u001b[0m\u001b[0;34m.\u001b[0m\u001b[0mload_models\u001b[0m\u001b[0;34m,\u001b[0m \u001b[0;34m**\u001b[0m\u001b[0mkwargs\u001b[0m\u001b[0;34m)\u001b[0m\u001b[0;34m\u001b[0m\u001b[0;34m\u001b[0m\u001b[0m\n\u001b[0m\u001b[1;32m    376\u001b[0m \u001b[0;34m\u001b[0m\u001b[0m\n\u001b[1;32m    377\u001b[0m         \u001b[0;32mreturn\u001b[0m \u001b[0mself\u001b[0m\u001b[0;34m\u001b[0m\u001b[0;34m\u001b[0m\u001b[0m\n",
      "\u001b[0;32m~/opt/anaconda3/lib/python3.9/site-packages/autosklearn/automl.py\u001b[0m in \u001b[0;36mfit\u001b[0;34m(self, X, y, X_test, y_test, feat_type, dataset_name, only_return_configuration_space, load_models)\u001b[0m\n\u001b[1;32m   2054\u001b[0m         \u001b[0mload_models\u001b[0m\u001b[0;34m:\u001b[0m \u001b[0mbool\u001b[0m \u001b[0;34m=\u001b[0m \u001b[0;32mTrue\u001b[0m\u001b[0;34m,\u001b[0m\u001b[0;34m\u001b[0m\u001b[0;34m\u001b[0m\u001b[0m\n\u001b[1;32m   2055\u001b[0m     ):\n\u001b[0;32m-> 2056\u001b[0;31m         return super().fit(\n\u001b[0m\u001b[1;32m   2057\u001b[0m             \u001b[0mX\u001b[0m\u001b[0;34m,\u001b[0m \u001b[0my\u001b[0m\u001b[0;34m,\u001b[0m\u001b[0;34m\u001b[0m\u001b[0;34m\u001b[0m\u001b[0m\n\u001b[1;32m   2058\u001b[0m             \u001b[0mX_test\u001b[0m\u001b[0;34m=\u001b[0m\u001b[0mX_test\u001b[0m\u001b[0;34m,\u001b[0m\u001b[0;34m\u001b[0m\u001b[0;34m\u001b[0m\u001b[0m\n",
      "\u001b[0;32m~/opt/anaconda3/lib/python3.9/site-packages/autosklearn/automl.py\u001b[0m in \u001b[0;36mfit\u001b[0;34m(self, X, y, task, X_test, y_test, feat_type, dataset_name, only_return_configuration_space, load_models, is_classification)\u001b[0m\n\u001b[1;32m    806\u001b[0m         \u001b[0;31m# == Perform dummy predictions\u001b[0m\u001b[0;34m\u001b[0m\u001b[0;34m\u001b[0m\u001b[0m\n\u001b[1;32m    807\u001b[0m         \u001b[0;31m# Dummy prediction always have num_run set to 1\u001b[0m\u001b[0;34m\u001b[0m\u001b[0;34m\u001b[0m\u001b[0m\n\u001b[0;32m--> 808\u001b[0;31m         \u001b[0mself\u001b[0m\u001b[0;34m.\u001b[0m\u001b[0mnum_run\u001b[0m \u001b[0;34m+=\u001b[0m \u001b[0mself\u001b[0m\u001b[0;34m.\u001b[0m\u001b[0m_do_dummy_prediction\u001b[0m\u001b[0;34m(\u001b[0m\u001b[0mdatamanager\u001b[0m\u001b[0;34m,\u001b[0m \u001b[0mnum_run\u001b[0m\u001b[0;34m=\u001b[0m\u001b[0;36m1\u001b[0m\u001b[0;34m)\u001b[0m\u001b[0;34m\u001b[0m\u001b[0;34m\u001b[0m\u001b[0m\n\u001b[0m\u001b[1;32m    809\u001b[0m \u001b[0;34m\u001b[0m\u001b[0m\n\u001b[1;32m    810\u001b[0m         \u001b[0;31m# == RUN ensemble builder\u001b[0m\u001b[0;34m\u001b[0m\u001b[0;34m\u001b[0m\u001b[0m\n",
      "\u001b[0;32m~/opt/anaconda3/lib/python3.9/site-packages/autosklearn/automl.py\u001b[0m in \u001b[0;36m_do_dummy_prediction\u001b[0;34m(self, datamanager, num_run)\u001b[0m\n\u001b[1;32m    474\u001b[0m                 )\n\u001b[1;32m    475\u001b[0m                 \u001b[0;31m# Fail if dummy prediction fails.\u001b[0m\u001b[0;34m\u001b[0m\u001b[0;34m\u001b[0m\u001b[0m\n\u001b[0;32m--> 476\u001b[0;31m                 raise ValueError(\n\u001b[0m\u001b[1;32m    477\u001b[0m                     \u001b[0;34m\"Dummy prediction failed with run state %s and additional output: %s.\"\u001b[0m\u001b[0;34m\u001b[0m\u001b[0;34m\u001b[0m\u001b[0m\n\u001b[1;32m    478\u001b[0m                     \u001b[0;34m%\u001b[0m \u001b[0;34m(\u001b[0m\u001b[0mstr\u001b[0m\u001b[0;34m(\u001b[0m\u001b[0mstatus\u001b[0m\u001b[0;34m)\u001b[0m\u001b[0;34m,\u001b[0m \u001b[0mstr\u001b[0m\u001b[0;34m(\u001b[0m\u001b[0madditional_info\u001b[0m\u001b[0;34m)\u001b[0m\u001b[0;34m)\u001b[0m\u001b[0;34m\u001b[0m\u001b[0;34m\u001b[0m\u001b[0m\n",
      "\u001b[0;31mValueError\u001b[0m: Dummy prediction failed with run state StatusType.CRASHED and additional output: {'error': 'Result queue is empty', 'exit_status': \"<class 'pynisher.limit_function_call.AnythingException'>\", 'subprocess_stdout': '', 'subprocess_stderr': 'Process pynisher function call:\\nTraceback (most recent call last):\\n  File \"/Users/cheimamezdour/opt/anaconda3/lib/python3.9/multiprocessing/process.py\", line 315, in _bootstrap\\n    self.run()\\n  File \"/Users/cheimamezdour/opt/anaconda3/lib/python3.9/multiprocessing/process.py\", line 108, in run\\n    self._target(*self._args, **self._kwargs)\\n  File \"/Users/cheimamezdour/opt/anaconda3/lib/python3.9/site-packages/pynisher/limit_function_call.py\", line 108, in subprocess_func\\n    resource.setrlimit(resource.RLIMIT_AS, (mem_in_b, mem_in_b))\\nValueError: current limit exceeds maximum limit\\n', 'exitcode': 1, 'configuration_origin': 'DUMMY'}."
     ]
    }
   ],
   "source": [
    "cls.fit(X_train,y_train)"
   ]
  },
  {
   "cell_type": "code",
   "execution_count": 9,
   "id": "031ac3ba",
   "metadata": {},
   "outputs": [
    {
     "ename": "AttributeError",
     "evalue": "'AutoMLClassifier' object has no attribute 'runhistory_'",
     "output_type": "error",
     "traceback": [
      "\u001b[0;31m---------------------------------------------------------------------------\u001b[0m",
      "\u001b[0;31mAttributeError\u001b[0m                            Traceback (most recent call last)",
      "\u001b[0;32m/var/folders/rr/62tz31v139gdkk0h36fmvq240000gn/T/ipykernel_17068/350231461.py\u001b[0m in \u001b[0;36m<module>\u001b[0;34m\u001b[0m\n\u001b[0;32m----> 1\u001b[0;31m \u001b[0mprint\u001b[0m\u001b[0;34m(\u001b[0m\u001b[0mcls\u001b[0m\u001b[0;34m.\u001b[0m\u001b[0msprint_statistics\u001b[0m\u001b[0;34m(\u001b[0m\u001b[0;34m)\u001b[0m\u001b[0;34m)\u001b[0m\u001b[0;34m\u001b[0m\u001b[0;34m\u001b[0m\u001b[0m\n\u001b[0m",
      "\u001b[0;32m~/opt/anaconda3/lib/python3.9/site-packages/autosklearn/estimators.py\u001b[0m in \u001b[0;36msprint_statistics\u001b[0;34m(self)\u001b[0m\n\u001b[1;32m    650\u001b[0m         \u001b[0mstr\u001b[0m\u001b[0;34m\u001b[0m\u001b[0;34m\u001b[0m\u001b[0m\n\u001b[1;32m    651\u001b[0m         \"\"\"\n\u001b[0;32m--> 652\u001b[0;31m         \u001b[0;32mreturn\u001b[0m \u001b[0mself\u001b[0m\u001b[0;34m.\u001b[0m\u001b[0mautoml_\u001b[0m\u001b[0;34m.\u001b[0m\u001b[0msprint_statistics\u001b[0m\u001b[0;34m(\u001b[0m\u001b[0;34m)\u001b[0m\u001b[0;34m\u001b[0m\u001b[0;34m\u001b[0m\u001b[0m\n\u001b[0m\u001b[1;32m    653\u001b[0m \u001b[0;34m\u001b[0m\u001b[0m\n\u001b[1;32m    654\u001b[0m     def leaderboard(\n",
      "\u001b[0;32m~/opt/anaconda3/lib/python3.9/site-packages/autosklearn/automl.py\u001b[0m in \u001b[0;36msprint_statistics\u001b[0;34m(self)\u001b[0m\n\u001b[1;32m   1797\u001b[0m \u001b[0;34m\u001b[0m\u001b[0m\n\u001b[1;32m   1798\u001b[0m     \u001b[0;32mdef\u001b[0m \u001b[0msprint_statistics\u001b[0m\u001b[0;34m(\u001b[0m\u001b[0mself\u001b[0m\u001b[0;34m)\u001b[0m\u001b[0;34m:\u001b[0m\u001b[0;34m\u001b[0m\u001b[0;34m\u001b[0m\u001b[0m\n\u001b[0;32m-> 1799\u001b[0;31m         \u001b[0mcv_results\u001b[0m \u001b[0;34m=\u001b[0m \u001b[0mself\u001b[0m\u001b[0;34m.\u001b[0m\u001b[0mcv_results_\u001b[0m\u001b[0;34m\u001b[0m\u001b[0;34m\u001b[0m\u001b[0m\n\u001b[0m\u001b[1;32m   1800\u001b[0m         \u001b[0msio\u001b[0m \u001b[0;34m=\u001b[0m \u001b[0mio\u001b[0m\u001b[0;34m.\u001b[0m\u001b[0mStringIO\u001b[0m\u001b[0;34m(\u001b[0m\u001b[0;34m)\u001b[0m\u001b[0;34m\u001b[0m\u001b[0;34m\u001b[0m\u001b[0m\n\u001b[1;32m   1801\u001b[0m         \u001b[0msio\u001b[0m\u001b[0;34m.\u001b[0m\u001b[0mwrite\u001b[0m\u001b[0;34m(\u001b[0m\u001b[0;34m'auto-sklearn results:\\n'\u001b[0m\u001b[0;34m)\u001b[0m\u001b[0;34m\u001b[0m\u001b[0;34m\u001b[0m\u001b[0m\n",
      "\u001b[0;32m~/opt/anaconda3/lib/python3.9/site-packages/autosklearn/automl.py\u001b[0m in \u001b[0;36mcv_results_\u001b[0;34m(self)\u001b[0m\n\u001b[1;32m   1723\u001b[0m         \u001b[0mbudgets\u001b[0m \u001b[0;34m=\u001b[0m \u001b[0;34m[\u001b[0m\u001b[0;34m]\u001b[0m\u001b[0;34m\u001b[0m\u001b[0;34m\u001b[0m\u001b[0m\n\u001b[1;32m   1724\u001b[0m \u001b[0;34m\u001b[0m\u001b[0m\n\u001b[0;32m-> 1725\u001b[0;31m         \u001b[0;32mfor\u001b[0m \u001b[0mrun_key\u001b[0m \u001b[0;32min\u001b[0m \u001b[0mself\u001b[0m\u001b[0;34m.\u001b[0m\u001b[0mrunhistory_\u001b[0m\u001b[0;34m.\u001b[0m\u001b[0mdata\u001b[0m\u001b[0;34m:\u001b[0m\u001b[0;34m\u001b[0m\u001b[0;34m\u001b[0m\u001b[0m\n\u001b[0m\u001b[1;32m   1726\u001b[0m             \u001b[0mrun_value\u001b[0m \u001b[0;34m=\u001b[0m \u001b[0mself\u001b[0m\u001b[0;34m.\u001b[0m\u001b[0mrunhistory_\u001b[0m\u001b[0;34m.\u001b[0m\u001b[0mdata\u001b[0m\u001b[0;34m[\u001b[0m\u001b[0mrun_key\u001b[0m\u001b[0;34m]\u001b[0m\u001b[0;34m\u001b[0m\u001b[0;34m\u001b[0m\u001b[0m\n\u001b[1;32m   1727\u001b[0m             \u001b[0mconfig_id\u001b[0m \u001b[0;34m=\u001b[0m \u001b[0mrun_key\u001b[0m\u001b[0;34m.\u001b[0m\u001b[0mconfig_id\u001b[0m\u001b[0;34m\u001b[0m\u001b[0;34m\u001b[0m\u001b[0m\n",
      "\u001b[0;31mAttributeError\u001b[0m: 'AutoMLClassifier' object has no attribute 'runhistory_'"
     ]
    }
   ],
   "source": [
    "print(cls.sprint_statistics())"
   ]
  },
  {
   "cell_type": "code",
   "execution_count": null,
   "id": "adaab0f0",
   "metadata": {},
   "outputs": [],
   "source": [
    "predictionsb= cls.predict(X_test)"
   ]
  },
  {
   "cell_type": "code",
   "execution_count": null,
   "id": "b9256ffd",
   "metadata": {},
   "outputs": [],
   "source": [
    "accuracy = accuracy_score(y_test,predicrions)"
   ]
  },
  {
   "cell_type": "code",
   "execution_count": null,
   "id": "f133b805",
   "metadata": {},
   "outputs": [],
   "source": []
  }
 ],
 "metadata": {
  "kernelspec": {
   "display_name": "Python 3 (ipykernel)",
   "language": "python",
   "name": "python3"
  },
  "language_info": {
   "codemirror_mode": {
    "name": "ipython",
    "version": 3
   },
   "file_extension": ".py",
   "mimetype": "text/x-python",
   "name": "python",
   "nbconvert_exporter": "python",
   "pygments_lexer": "ipython3",
   "version": "3.9.7"
  }
 },
 "nbformat": 4,
 "nbformat_minor": 5
}
