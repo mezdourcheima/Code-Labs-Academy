{
 "cells": [
  {
   "cell_type": "code",
   "execution_count": 1,
   "id": "8d88321e",
   "metadata": {},
   "outputs": [],
   "source": [
    "from sklearn.datasets import load_breast_cancer\n",
    "from sklearn.svm import SVC\n",
    "from sklearn.model_selection import train_test_split\n",
    "from sklearn.model_selection import GridSearchCV\n",
    "from sklearn.metrics import classification_report"
   ]
  },
  {
   "cell_type": "code",
   "execution_count": 2,
   "id": "553e5f88",
   "metadata": {},
   "outputs": [],
   "source": [
    "# load the data amnd split it into train , test\n",
    "data = load_breast_cancer()\n",
    "x = data.data\n",
    "y = data.target\n",
    "\n",
    "x_train, x_test, y_train, y_test = train_test_split(x,y, test_size = 0.2, random_state = 42)"
   ]
  },
  {
   "cell_type": "code",
   "execution_count": 3,
   "id": "216ceb5d",
   "metadata": {},
   "outputs": [],
   "source": [
    "# Set parameters by cross-validation\n",
    "tuned_parameters = [{'kernel': ['rbf', 'linear'], 'gamma':[1e-3, 1e-4], 'C':[1,10,100,1000]}]\n",
    "# Kernel transform the training set of the data\n",
    "# gamma defines how far the influence of a single training example reaches, low values ==> Far , high values ==> close\n",
    "# C is a regularisation parameter and must be strictlu positive"
   ]
  },
  {
   "cell_type": "code",
   "execution_count": 7,
   "id": "0c8f715b",
   "metadata": {},
   "outputs": [],
   "source": [
    "scores =['precision','recall']"
   ]
  },
  {
   "cell_type": "code",
   "execution_count": 8,
   "id": "376c6029",
   "metadata": {},
   "outputs": [],
   "source": [
    "def grid_search (X_train, y_train, x_test, y_test, tunes_params, metric=\"precision\"):\n",
    "    print(\"# Tuning hyper-parameters for %s\" % metric)\n",
    "    clf = GridSearchCV(SVC(), tuned_parameters, scoring='%s_macro'% metric)\n",
    "    clf.fit(x_train, y_train)\n",
    "    print(\"Best params found\")\n",
    "    print(clf.best_params_)\n",
    "    print(\"Grid scores on development set : \")\n",
    "    print(clf.best_estimator_)\n",
    "    print()\n",
    "    means = clf.cv_results_['mean_test_score']\n",
    "    stds = clf.cv_results_['std_test_score']\n",
    "    for mean, std, params in zip(means, stds, clf.cv_results_['params']):\n",
    "        print(\"%0.3f (+/-%0.03f) for %r\"\n",
    "             %(mean, std * 2, params))\n",
    "    print(\"Classification report\")\n",
    "    y_true, y_pred = y_test, clf.predict(x_test)\n",
    "    print(classification_report(y_true, y_pred))"
   ]
  },
  {
   "cell_type": "code",
   "execution_count": 9,
   "id": "bbf521b4",
   "metadata": {},
   "outputs": [
    {
     "name": "stdout",
     "output_type": "stream",
     "text": [
      "# Tuning hyper-parameters for precision\n",
      "Best params found\n",
      "{'C': 100, 'gamma': 0.001, 'kernel': 'linear'}\n",
      "Grid scores on development set : \n",
      "SVC(C=100, gamma=0.001, kernel='linear')\n",
      "\n",
      "0.902 (+/-0.045) for {'C': 1, 'gamma': 0.001, 'kernel': 'rbf'}\n",
      "0.957 (+/-0.052) for {'C': 1, 'gamma': 0.001, 'kernel': 'linear'}\n",
      "0.933 (+/-0.046) for {'C': 1, 'gamma': 0.0001, 'kernel': 'rbf'}\n",
      "0.957 (+/-0.052) for {'C': 1, 'gamma': 0.0001, 'kernel': 'linear'}\n",
      "0.897 (+/-0.037) for {'C': 10, 'gamma': 0.001, 'kernel': 'rbf'}\n",
      "0.955 (+/-0.038) for {'C': 10, 'gamma': 0.001, 'kernel': 'linear'}\n",
      "0.954 (+/-0.041) for {'C': 10, 'gamma': 0.0001, 'kernel': 'rbf'}\n",
      "0.955 (+/-0.038) for {'C': 10, 'gamma': 0.0001, 'kernel': 'linear'}\n",
      "0.897 (+/-0.037) for {'C': 100, 'gamma': 0.001, 'kernel': 'rbf'}\n",
      "0.972 (+/-0.053) for {'C': 100, 'gamma': 0.001, 'kernel': 'linear'}\n",
      "0.942 (+/-0.031) for {'C': 100, 'gamma': 0.0001, 'kernel': 'rbf'}\n",
      "0.972 (+/-0.053) for {'C': 100, 'gamma': 0.0001, 'kernel': 'linear'}\n",
      "0.897 (+/-0.037) for {'C': 1000, 'gamma': 0.001, 'kernel': 'rbf'}\n",
      "0.968 (+/-0.034) for {'C': 1000, 'gamma': 0.001, 'kernel': 'linear'}\n",
      "0.921 (+/-0.055) for {'C': 1000, 'gamma': 0.0001, 'kernel': 'rbf'}\n",
      "0.968 (+/-0.034) for {'C': 1000, 'gamma': 0.0001, 'kernel': 'linear'}\n",
      "Classification report\n",
      "              precision    recall  f1-score   support\n",
      "\n",
      "           0       0.97      0.91      0.94        43\n",
      "           1       0.95      0.99      0.97        71\n",
      "\n",
      "    accuracy                           0.96       114\n",
      "   macro avg       0.96      0.95      0.95       114\n",
      "weighted avg       0.96      0.96      0.96       114\n",
      "\n"
     ]
    }
   ],
   "source": [
    "# Grid search using only the precision\n",
    "import warnings\n",
    "warnings.filterwarnings(\"ignore\")\n",
    "\n",
    "grid_search(x_train, y_train, x_test, y_test, tuned_parameters, scores[0])"
   ]
  },
  {
   "cell_type": "markdown",
   "id": "5637ad0c",
   "metadata": {},
   "source": [
    "### Grid scores on development set : \n",
    "###         SVC(C=100, gamma=0.001, kernel='linear')"
   ]
  },
  {
   "cell_type": "code",
   "execution_count": 10,
   "id": "2202c8f9",
   "metadata": {},
   "outputs": [
    {
     "name": "stdout",
     "output_type": "stream",
     "text": [
      "# Tuning hyper-parameters for recall\n",
      "Best params found\n",
      "{'C': 100, 'gamma': 0.001, 'kernel': 'linear'}\n",
      "Grid scores on development set : \n",
      "SVC(C=100, gamma=0.001, kernel='linear')\n",
      "\n",
      "0.910 (+/-0.060) for {'C': 1, 'gamma': 0.001, 'kernel': 'rbf'}\n",
      "0.949 (+/-0.055) for {'C': 1, 'gamma': 0.001, 'kernel': 'linear'}\n",
      "0.922 (+/-0.070) for {'C': 1, 'gamma': 0.0001, 'kernel': 'rbf'}\n",
      "0.949 (+/-0.055) for {'C': 1, 'gamma': 0.0001, 'kernel': 'linear'}\n",
      "0.904 (+/-0.052) for {'C': 10, 'gamma': 0.001, 'kernel': 'rbf'}\n",
      "0.948 (+/-0.051) for {'C': 10, 'gamma': 0.001, 'kernel': 'linear'}\n",
      "0.938 (+/-0.071) for {'C': 10, 'gamma': 0.0001, 'kernel': 'rbf'}\n",
      "0.948 (+/-0.051) for {'C': 10, 'gamma': 0.0001, 'kernel': 'linear'}\n",
      "0.904 (+/-0.052) for {'C': 100, 'gamma': 0.001, 'kernel': 'rbf'}\n",
      "0.968 (+/-0.062) for {'C': 100, 'gamma': 0.001, 'kernel': 'linear'}\n",
      "0.931 (+/-0.041) for {'C': 100, 'gamma': 0.0001, 'kernel': 'rbf'}\n",
      "0.968 (+/-0.062) for {'C': 100, 'gamma': 0.0001, 'kernel': 'linear'}\n",
      "0.904 (+/-0.052) for {'C': 1000, 'gamma': 0.001, 'kernel': 'rbf'}\n",
      "0.967 (+/-0.031) for {'C': 1000, 'gamma': 0.001, 'kernel': 'linear'}\n",
      "0.909 (+/-0.067) for {'C': 1000, 'gamma': 0.0001, 'kernel': 'rbf'}\n",
      "0.967 (+/-0.031) for {'C': 1000, 'gamma': 0.0001, 'kernel': 'linear'}\n",
      "Classification report\n",
      "              precision    recall  f1-score   support\n",
      "\n",
      "           0       0.97      0.91      0.94        43\n",
      "           1       0.95      0.99      0.97        71\n",
      "\n",
      "    accuracy                           0.96       114\n",
      "   macro avg       0.96      0.95      0.95       114\n",
      "weighted avg       0.96      0.96      0.96       114\n",
      "\n"
     ]
    }
   ],
   "source": [
    "# Grid search using only the recall\n",
    "import warnings\n",
    "warnings.filterwarnings(\"ignore\")\n",
    "\n",
    "grid_search(x_train, y_train, x_test, y_test, tuned_parameters, scores[1])"
   ]
  },
  {
   "cell_type": "markdown",
   "id": "c8ea5ecc",
   "metadata": {},
   "source": [
    "### Grid scores on development set : \n",
    "### SVC(C=100, gamma=0.001, kernel='linear')\n"
   ]
  },
  {
   "cell_type": "code",
   "execution_count": null,
   "id": "d14b43f8",
   "metadata": {},
   "outputs": [],
   "source": []
  }
 ],
 "metadata": {
  "kernelspec": {
   "display_name": "Python 3 (ipykernel)",
   "language": "python",
   "name": "python3"
  },
  "language_info": {
   "codemirror_mode": {
    "name": "ipython",
    "version": 3
   },
   "file_extension": ".py",
   "mimetype": "text/x-python",
   "name": "python",
   "nbconvert_exporter": "python",
   "pygments_lexer": "ipython3",
   "version": "3.9.7"
  }
 },
 "nbformat": 4,
 "nbformat_minor": 5
}
