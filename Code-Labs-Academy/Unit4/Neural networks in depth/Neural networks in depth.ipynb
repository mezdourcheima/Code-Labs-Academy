{
 "cells": [
  {
   "cell_type": "code",
   "execution_count": 17,
   "id": "4dfc0360",
   "metadata": {},
   "outputs": [],
   "source": [
    "import numpy as np\n",
    "import matplotlib.pyplot as plt\n",
    "np.random.seed(1)\n",
    "import warnings\n",
    "warnings.filterwarnings('ignore')"
   ]
  },
  {
   "cell_type": "code",
   "execution_count": 18,
   "id": "cfc47095",
   "metadata": {},
   "outputs": [
    {
     "data": {
      "image/png": "[encoded data removed]",
      "text/plain": [
       "<Figure size 432x288 with 1 Axes>"
      ]
     },
     "metadata": {
      "needs_background": "light"
     },
     "output_type": "display_data"
    }
   ],
   "source": [
    "from sklearn.datasets import make_circles\n",
    "#generate the dataset\n",
    "X,y = make_circles(n_samples=1000, noise=0.05, random_state=1)\n",
    "# select indices of points with each class label\n",
    "for i in range(2):\n",
    "    samples_ix = np.where(y == i)\n",
    "    plt.scatter(X[samples_ix, 0], X[samples_ix, 1], label = str(i))\n",
    "plt.legend()\n",
    "plt.show()"
   ]
  },
  {
   "cell_type": "code",
   "execution_count": 19,
   "id": "7da5a20f",
   "metadata": {},
   "outputs": [],
   "source": [
    "def sigmoid(x):\n",
    "    return 1 / (1 + np.exp(-x))\n",
    "def relu(x):\n",
    "    return np.maximum(0,x)"
   ]
  },
  {
   "cell_type": "code",
   "execution_count": 20,
   "id": "05514025",
   "metadata": {},
   "outputs": [],
   "source": [
    "def forwardPass(X, parameters):\n",
    "    W1, W2, b1, b2 = parameters[\"W1\"],parameters[\"W2\"],parameters[\"b1\"],parameters[\"b2\"]\n",
    "    Z1 = np.dot(X, W1.T) + b1.T\n",
    "    A1 = sigmoid(Z1)\n",
    "    Z2 = np.dot(A1, W2.T) + b2.T # np.dot() => product of two arrays\n",
    "    A2 = sigmoid(Z2)\n",
    "    return A2"
   ]
  },
  {
   "cell_type": "code",
   "execution_count": 21,
   "id": "30629e33",
   "metadata": {},
   "outputs": [
    {
     "name": "stdout",
     "output_type": "stream",
     "text": [
      "Output =  [[0.03266079]]\n",
      "Prediction =  [[0.]]\n",
      "Target =  1\n"
     ]
    }
   ],
   "source": [
    "# Testing the forward pass\n",
    "\n",
    "#initializing the weights randomly\n",
    "W1 = np.array([[2,3],[0.5,-5]])\n",
    "b1 = np.array([[1],[-2]])\n",
    "W2 = np.array([[0.1,-4.5]])\n",
    "b2 = np.array([[0]])\n",
    "parameters = {\"W1\" : W1, \"b1\" : b1, \"W2\" : W2, \"b2\" : b2 }\n",
    "\n",
    "# Picking a data point\n",
    "x_1 = X[1]\n",
    "\n",
    "#Executing the forward pass\n",
    "A2 = forwardPass(x_1, parameters)\n",
    "\n",
    "# Printing results\n",
    "print(\"Output = \", A2)\n",
    "print(\"Prediction = \", (A2 > 0.5) * 1.0)\n",
    "print(\"Target = \", y[0])"
   ]
  },
  {
   "cell_type": "code",
   "execution_count": 22,
   "id": "80979ac9",
   "metadata": {},
   "outputs": [],
   "source": [
    "#Our model is not trained and the weights are initialized randomly...so the prediction is not correct"
   ]
  },
  {
   "cell_type": "markdown",
   "id": "7c887e5b",
   "metadata": {},
   "source": [
    "### III - Weights Initialization"
   ]
  },
  {
   "cell_type": "code",
   "execution_count": 23,
   "id": "3b22a367",
   "metadata": {},
   "outputs": [],
   "source": [
    "#Initializing with small values\n",
    "def initializeParametersRandom(inputSize, hiddenlayerSize, outputSize):\n",
    "    W1 = np.random.randn(hiddenlayerSize, inputSize) * 1e-6\n",
    "    W2 = np.random.randn(outputSize, hiddenlayerSize) * 1e-6\n",
    "    b1 = np.zeros(hiddenlayerSize, 1)\n",
    "    b2 = np.zeros(outputSize, 1)\n",
    "    \n",
    "    parameters = {\"w1\" : W1, \"b1\" : b1 , \"W2\" : W2 , \"b2\" : b2 }\n",
    "    return parameters"
   ]
  },
  {
   "cell_type": "code",
   "execution_count": 24,
   "id": "5170be82",
   "metadata": {},
   "outputs": [],
   "source": [
    "# He Initializing \n",
    "def initializeParametersHe(inputSize, hiddenlayerSize, outputSize):\n",
    "    W1 = np.random.randn(hiddenlayerSize, inputSize) * np.sqrt(2/inputSize)\n",
    "    W2 = np.random.randn(outputSize, hiddenlayerSize) * np.sqrt(2/hiddenlayerSize)\n",
    "    b1 = np.zeros(hiddenlayerSize, 1)\n",
    "    b2 = np.zeros(outputSize, 1)\n",
    "    \n",
    "    parameters = {\"w1\" : W1, \"b1\" : b1 , \"W2\" : W2 , \"b2\" : b2 }\n",
    "    return parameters"
   ]
  },
  {
   "cell_type": "code",
   "execution_count": 25,
   "id": "add5a01f",
   "metadata": {},
   "outputs": [],
   "source": [
    "# preparing our data\n",
    "from sklearn.model_selection import train_test_split\n",
    "X_train, X_test, y_train, y_test = train_test_split(X,y, test_size=0.1, random_state=1)\n",
    "#X_train = X_train.T\n",
    "#X_test = X_test.T\n",
    "y_train = y_train.reshape((-1,1))\n",
    "y_test = y_test.reshape((-1,1))"
   ]
  },
  {
   "cell_type": "code",
   "execution_count": 26,
   "id": "1eac34cc",
   "metadata": {},
   "outputs": [],
   "source": [
    "hiddenLayersSize = 10 # number of hidden layers in neurons (2)\n",
    "inputSize = X_train.shape[1] # number of input features (2)\n",
    "outputSize = y_train.shape[1] # number of output features (1)"
   ]
  },
  {
   "cell_type": "code",
   "execution_count": 28,
   "id": "20336a62",
   "metadata": {},
   "outputs": [
    {
     "ename": "ModuleNotFoundError",
     "evalue": "No module named 'Utils_activation'",
     "output_type": "error",
     "traceback": [
      "\u001b[0;31m---------------------------------------------------------------------------\u001b[0m",
      "\u001b[0;31mModuleNotFoundError\u001b[0m                       Traceback (most recent call last)",
      "\u001b[0;32m/var/folders/rr/62tz31v139gdkk0h36fmvq240000gn/T/ipykernel_3440/983731945.py\u001b[0m in \u001b[0;36m<module>\u001b[0;34m\u001b[0m\n\u001b[1;32m      1\u001b[0m \u001b[0;31m#from Utils_initialization import forwardPass, fit\u001b[0m\u001b[0;34m\u001b[0m\u001b[0;34m\u001b[0m\u001b[0m\n\u001b[0;32m----> 2\u001b[0;31m \u001b[0;32mfrom\u001b[0m \u001b[0mUtils_activation\u001b[0m \u001b[0;32mimport\u001b[0m \u001b[0mforwardPass\u001b[0m\u001b[0;34m,\u001b[0m \u001b[0mfit\u001b[0m\u001b[0;34m\u001b[0m\u001b[0;34m\u001b[0m\u001b[0m\n\u001b[0m",
      "\u001b[0;31mModuleNotFoundError\u001b[0m: No module named 'Utils_activation'"
     ]
    }
   ],
   "source": [
    "from Utils_initialization import forwardPass, fit\n"
   ]
  },
  {
   "cell_type": "code",
   "execution_count": null,
   "id": "b280f6da",
   "metadata": {},
   "outputs": [],
   "source": [
    "parameters_1 = initializeParametersHe(inputSize, hiddenLayerSize, outputSize)\n",
    "parameters_1 = fit(X_train, y_train, 10000, 0.1, parameters_1)"
   ]
  },
  {
   "cell_type": "code",
   "execution_count": null,
   "id": "603b5612",
   "metadata": {},
   "outputs": [],
   "source": [
    "# Evaluate the model that was initialized with He initialization\n",
    "from sklearn.metrics import accuarcy_score\n",
    "_, _, A2 = forwardPass(X_test, y_test, parameters_1)\n",
    "y_test_classes = y_test\n",
    "y_pred_classes = [1 if a > 0.5 else 0 for a in A2]\n",
    "print(\"Accuracy = \", accuracy_score(y_test_classes, y_pred_classes))"
   ]
  },
  {
   "cell_type": "code",
   "execution_count": null,
   "id": "5bd7f107",
   "metadata": {},
   "outputs": [],
   "source": [
    "parameters_2 = initializeParametersRandom(inputSize, hiddenLayerSize, outputSize)\n",
    "parameters_2 = fit(X_train, y_train, 10000, 0.1, parameters_2)"
   ]
  },
  {
   "cell_type": "code",
   "execution_count": null,
   "id": "39a4f33b",
   "metadata": {},
   "outputs": [],
   "source": [
    "# Evaluate the model that was initialized with He initialization\n",
    "from sklearn.metrics import accuarcy_score\n",
    "_, _, A2 = forwardPass(X_test, y_test, parameters_2)\n",
    "y_test_classes = y_test\n",
    "y_pred_classes = [1 if a > 0.5 else 0 for a in A2]\n",
    "print(\"Accuracy = \", accuracy_score(y_test_classes, y_pred_classes))"
   ]
  },
  {
   "cell_type": "markdown",
   "id": "b0d9ac4b",
   "metadata": {},
   "source": [
    "### IV - Activation functions"
   ]
  },
  {
   "cell_type": "code",
   "execution_count": 29,
   "id": "85382b38",
   "metadata": {},
   "outputs": [
    {
     "ename": "ModuleNotFoundError",
     "evalue": "No module named 'utils_activation'",
     "output_type": "error",
     "traceback": [
      "\u001b[0;31m---------------------------------------------------------------------------\u001b[0m",
      "\u001b[0;31mModuleNotFoundError\u001b[0m                       Traceback (most recent call last)",
      "\u001b[0;32m/var/folders/rr/62tz31v139gdkk0h36fmvq240000gn/T/ipykernel_3440/2781348757.py\u001b[0m in \u001b[0;36m<module>\u001b[0;34m\u001b[0m\n\u001b[0;32m----> 1\u001b[0;31m \u001b[0;32mfrom\u001b[0m \u001b[0mutils_activation\u001b[0m \u001b[0;32mimport\u001b[0m \u001b[0mforwardPass\u001b[0m\u001b[0;34m,\u001b[0m \u001b[0mfit\u001b[0m\u001b[0;34m\u001b[0m\u001b[0;34m\u001b[0m\u001b[0m\n\u001b[0m",
      "\u001b[0;31mModuleNotFoundError\u001b[0m: No module named 'utils_activation'"
     ]
    }
   ],
   "source": [
    "from Utils_activation import forwardPass, fit"
   ]
  },
  {
   "cell_type": "code",
   "execution_count": 30,
   "id": "ff13f8b2",
   "metadata": {},
   "outputs": [],
   "source": [
    "#Linear activation function\n",
    "def linear_activation(x):\n",
    "    return 0.5 * x\n",
    "#It's derivative\n",
    "def linear_activation_derivative(x):\n",
    "    return np.where(True, 0.5, 0)"
   ]
  },
  {
   "cell_type": "code",
   "execution_count": 31,
   "id": "88759247",
   "metadata": {},
   "outputs": [
    {
     "ename": "NameError",
     "evalue": "name 'hiddenLayerSize' is not defined",
     "output_type": "error",
     "traceback": [
      "\u001b[0;31m---------------------------------------------------------------------------\u001b[0m",
      "\u001b[0;31mNameError\u001b[0m                                 Traceback (most recent call last)",
      "\u001b[0;32m/var/folders/rr/62tz31v139gdkk0h36fmvq240000gn/T/ipykernel_3440/1865817707.py\u001b[0m in \u001b[0;36m<module>\u001b[0;34m\u001b[0m\n\u001b[0;32m----> 1\u001b[0;31m \u001b[0mparameters_3\u001b[0m \u001b[0;34m=\u001b[0m \u001b[0minitializeParametersHe\u001b[0m\u001b[0;34m(\u001b[0m\u001b[0minputSize\u001b[0m\u001b[0;34m,\u001b[0m \u001b[0mhiddenLayerSize\u001b[0m\u001b[0;34m,\u001b[0m \u001b[0moutputSize\u001b[0m\u001b[0;34m)\u001b[0m\u001b[0;34m\u001b[0m\u001b[0;34m\u001b[0m\u001b[0m\n\u001b[0m\u001b[1;32m      2\u001b[0m \u001b[0mparameters_3\u001b[0m \u001b[0;34m=\u001b[0m \u001b[0mfit\u001b[0m\u001b[0;34m(\u001b[0m\u001b[0mX_train\u001b[0m\u001b[0;34m,\u001b[0m \u001b[0my_train\u001b[0m\u001b[0;34m,\u001b[0m \u001b[0;36m10000\u001b[0m\u001b[0;34m,\u001b[0m \u001b[0;36m0.1\u001b[0m\u001b[0;34m,\u001b[0m\u001b[0mparameters_3\u001b[0m \u001b[0;34m,\u001b[0m \u001b[0minear_activation\u001b[0m\u001b[0;34m,\u001b[0m \u001b[0mlinear_activation_derivative\u001b[0m\u001b[0;34m)\u001b[0m\u001b[0;34m\u001b[0m\u001b[0;34m\u001b[0m\u001b[0m\n",
      "\u001b[0;31mNameError\u001b[0m: name 'hiddenLayerSize' is not defined"
     ]
    }
   ],
   "source": [
    "parameters_3 = initializeParametersHe(inputSize, hiddenLayerSize, outputSize)\n",
    "parameters_3 = fit(X_train, y_train, 10000, 0.1,parameters_3 , linear_activation, linear_activation_derivative)"
   ]
  },
  {
   "cell_type": "code",
   "execution_count": null,
   "id": "28e1bc97",
   "metadata": {},
   "outputs": [],
   "source": [
    "from sklearn.metrics import accuarcy_score\n",
    "_, _, A2 = forwardPass(X_test, y_test, parameters_3, linear_activation)\n",
    "y_test_classes = y_test\n",
    "y_pred_classes = [1 if a > 0.5 else 0 for a in A2]\n",
    "print(\"Accuracy = \", accuracy_score(y_test_classes, y_pred_classes))"
   ]
  },
  {
   "cell_type": "code",
   "execution_count": 32,
   "id": "9c2a1514",
   "metadata": {},
   "outputs": [],
   "source": [
    "#ReLU activation function\n",
    "def relu(x):\n",
    "    return np.maximum(0,x) \n",
    "#It's derivative\n",
    "def relu__derivative(x):\n",
    "    return np.where(x > 0, 1, 0)"
   ]
  },
  {
   "cell_type": "code",
   "execution_count": null,
   "id": "fd80391f",
   "metadata": {},
   "outputs": [],
   "source": [
    "parameters_4 = initializeParametersHe(inputSize, hiddenLayerSize, outputSize)\n",
    "parameters_4 = fit(X_train, y_train, 10000, 0.1,parameters_3 , relu, relu_derivative)"
   ]
  },
  {
   "cell_type": "code",
   "execution_count": null,
   "id": "ac44922e",
   "metadata": {},
   "outputs": [],
   "source": [
    "from sklearn.metrics import accuarcy_score\n",
    "_, _, A2 = forwardPass(X_test, y_test, parameters_4, relu)\n",
    "y_test_classes = y_test\n",
    "y_pred_classes = [1 if a > 0.5 else 0 for a in A2]\n",
    "print(\"Accuracy = \", accuracy_score(y_test_classes, y_pred_classes))"
   ]
  }
 ],
 "metadata": {
  "kernelspec": {
   "display_name": "Python 3 (ipykernel)",
   "language": "python",
   "name": "python3"
  },
  "language_info": {
   "codemirror_mode": {
    "name": "ipython",
    "version": 3
   },
   "file_extension": ".py",
   "mimetype": "text/x-python",
   "name": "python",
   "nbconvert_exporter": "python",
   "pygments_lexer": "ipython3",
   "version": "3.9.7"
  }
 },
 "nbformat": 4,
 "nbformat_minor": 5
}
