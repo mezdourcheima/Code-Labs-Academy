{
 "cells": [
  {
   "cell_type": "code",
   "execution_count": 66,
   "metadata": {
    "execution": {
     "iopub.execute_input": "2022-06-25T22:00:22.820859Z",
     "iopub.status.busy": "2022-06-25T22:00:22.819962Z",
     "iopub.status.idle": "2022-06-25T22:00:22.828482Z",
     "shell.execute_reply": "2022-06-25T22:00:22.827639Z",
     "shell.execute_reply.started": "2022-06-25T22:00:22.820822Z"
    }
   },
   "outputs": [],
   "source": [
    "#importing the necessary packages\n",
    "import matplotlib.pyplot as plt\n",
    "from sklearn.cluster import KMeans\n",
    "import pandas as pd\n",
    "import numpy as np"
   ]
  },
  {
   "cell_type": "markdown",
   "metadata": {},
   "source": [
    "### Read the file and check its characteristics\n"
   ]
  },
  {
   "cell_type": "code",
   "execution_count": 67,
   "metadata": {
    "execution": {
     "iopub.execute_input": "2022-06-25T22:00:22.835426Z",
     "iopub.status.busy": "2022-06-25T22:00:22.835057Z",
     "iopub.status.idle": "2022-06-25T22:00:22.854798Z",
     "shell.execute_reply": "2022-06-25T22:00:22.853314Z",
     "shell.execute_reply.started": "2022-06-25T22:00:22.835392Z"
    }
   },
   "outputs": [],
   "source": [
    "df = pd.read_csv('./clustering_data.csv')"
   ]
  },
  {
   "cell_type": "code",
   "execution_count": 68,
   "metadata": {
    "execution": {
     "iopub.execute_input": "2022-06-25T22:00:22.859129Z",
     "iopub.status.busy": "2022-06-25T22:00:22.858343Z",
     "iopub.status.idle": "2022-06-25T22:00:22.874162Z",
     "shell.execute_reply": "2022-06-25T22:00:22.872784Z",
     "shell.execute_reply.started": "2022-06-25T22:00:22.859079Z"
    }
   },
   "outputs": [],
   "source": [
    "df"
   ]
  },
  {
   "cell_type": "code",
   "execution_count": 69,
   "metadata": {
    "execution": {
     "iopub.execute_input": "2022-06-25T22:00:22.877100Z",
     "iopub.status.busy": "2022-06-25T22:00:22.876595Z",
     "iopub.status.idle": "2022-06-25T22:00:22.890586Z",
     "shell.execute_reply": "2022-06-25T22:00:22.889310Z",
     "shell.execute_reply.started": "2022-06-25T22:00:22.877055Z"
    }
   },
   "outputs": [],
   "source": [
    "df.info()"
   ]
  },
  {
   "cell_type": "code",
   "execution_count": 70,
   "metadata": {
    "execution": {
     "iopub.execute_input": "2022-06-25T22:00:22.893955Z",
     "iopub.status.busy": "2022-06-25T22:00:22.893180Z",
     "iopub.status.idle": "2022-06-25T22:00:23.150712Z",
     "shell.execute_reply": "2022-06-25T22:00:23.149521Z",
     "shell.execute_reply.started": "2022-06-25T22:00:22.893910Z"
    }
   },
   "outputs": [],
   "source": [
    "plt.scatter(df['-5.462513918787130329e+00'],df['-8.113541922364099435e+00'])\n",
    "plt.show()"
   ]
  },
  {
   "cell_type": "markdown",
   "metadata": {},
   "source": [
    "#### Execute the elbow method with k-means"
   ]
  },
  {
   "cell_type": "code",
   "execution_count": 71,
   "metadata": {
    "execution": {
     "iopub.execute_input": "2022-06-25T22:00:23.153474Z",
     "iopub.status.busy": "2022-06-25T22:00:23.153123Z",
     "iopub.status.idle": "2022-06-25T22:00:23.160786Z",
     "shell.execute_reply": "2022-06-25T22:00:23.159631Z",
     "shell.execute_reply.started": "2022-06-25T22:00:23.153444Z"
    }
   },
   "outputs": [],
   "source": [
    "random_state = 1 \n",
    "#selecting the feature\n",
    "x = df.iloc[:,0:2].values # 1t for rows and second for columns\n",
    "x.shape"
   ]
  },
  {
   "cell_type": "code",
   "execution_count": 76,
   "metadata": {
    "execution": {
     "iopub.execute_input": "2022-06-25T22:02:27.371619Z",
     "iopub.status.busy": "2022-06-25T22:02:27.370808Z",
     "iopub.status.idle": "2022-06-25T22:02:39.200832Z",
     "shell.execute_reply": "2022-06-25T22:02:39.199656Z",
     "shell.execute_reply.started": "2022-06-25T22:02:27.371576Z"
    }
   },
   "outputs": [],
   "source": [
    "distorsions = []\n",
    "for k in range(1,10):\n",
    "    kmeans = KMeans(n_clusters=k)\n",
    "    kmeans.fit(x)\n",
    "    distorsions.append(kmeans.inertia_)\n",
    "    \n",
    "fig = plt.figure(figsize=(15,5))\n",
    "plt.plot(range(1,10), distorsions)\n",
    "plt.grid(True)\n",
    "plt.title('Elbow curve')"
   ]
  },
  {
   "cell_type": "markdown",
   "metadata": {},
   "source": [
    "#### Execute k-means with the value that you see fits from the elbow method"
   ]
  },
  {
   "cell_type": "markdown",
   "metadata": {},
   "source": [
    "### The number of clusters found from the Elbow curve is 6."
   ]
  },
  {
   "cell_type": "code",
   "execution_count": 73,
   "metadata": {
    "execution": {
     "iopub.execute_input": "2022-06-25T22:00:35.036642Z",
     "iopub.status.busy": "2022-06-25T22:00:35.035524Z",
     "iopub.status.idle": "2022-06-25T22:00:35.521167Z",
     "shell.execute_reply": "2022-06-25T22:00:35.520027Z",
     "shell.execute_reply.started": "2022-06-25T22:00:35.036595Z"
    }
   },
   "outputs": [],
   "source": [
    "y_pred = KMeans(n_clusters=6,init='random', random_state=random_state).fit_predict(x)\n",
    "plt.scatter(df['-5.462513918787130329e+00'],df['-8.113541922364099435e+00'],c=y_pred)\n"
   ]
  },
  {
   "cell_type": "code",
   "execution_count": 77,
   "metadata": {
    "execution": {
     "iopub.execute_input": "2022-06-25T22:02:50.804289Z",
     "iopub.status.busy": "2022-06-25T22:02:50.803893Z",
     "iopub.status.idle": "2022-06-25T22:03:32.530409Z",
     "shell.execute_reply": "2022-06-25T22:03:32.529262Z",
     "shell.execute_reply.started": "2022-06-25T22:02:50.804255Z"
    }
   },
   "outputs": [],
   "source": [
    "from yellowbrick.cluster import KElbowVisualizer\n",
    "# k is range of number of clusters.\n",
    "visualizer = KElbowVisualizer(KMeans(), k=(2,30), timings= True)\n",
    "visualizer.fit(x)        # Fit data to visualizer\n",
    "visualizer.show()        # Finalize and render figure"
   ]
  }
 ],
 "metadata": {
  "kernelspec": {
   "display_name": "Python 3 (ipykernel)",
   "language": "python",
   "name": "python3"
  },
  "language_info": {
   "codemirror_mode": {
    "name": "ipython",
    "version": 3
   },
   "file_extension": ".py",
   "mimetype": "text/x-python",
   "name": "python",
   "nbconvert_exporter": "python",
   "pygments_lexer": "ipython3",
   "version": "3.9.7"
  }
 },
 "nbformat": 4,
 "nbformat_minor": 4
}
