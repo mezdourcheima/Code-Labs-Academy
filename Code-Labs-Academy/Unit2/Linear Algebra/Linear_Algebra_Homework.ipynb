{
 "cells": [
  {
   "cell_type": "code",
   "execution_count": 11,
   "id": "a3d4408f",
   "metadata": {},
   "outputs": [],
   "source": [
    "import matplotlib.image as image\n",
    "import PIL \n",
    "import numpy as np"
   ]
  },
  {
   "cell_type": "code",
   "execution_count": 12,
   "id": "6c03b66f",
   "metadata": {},
   "outputs": [
    {
     "name": "stdout",
     "output_type": "stream",
     "text": [
      "The Shape of the image is: (3840, 5760, 3)\n",
      "The image as array is:\n",
      "[[[254 203   0]\n",
      "  [254 203   0]\n",
      "  [254 203   0]\n",
      "  ...\n",
      "  [252 195   0]\n",
      "  [252 195   0]\n",
      "  [252 195   0]]\n",
      "\n",
      " [[254 203   0]\n",
      "  [254 203   0]\n",
      "  [254 203   0]\n",
      "  ...\n",
      "  [252 195   0]\n",
      "  [252 195   0]\n",
      "  [252 195   0]]\n",
      "\n",
      " [[254 203   0]\n",
      "  [254 203   0]\n",
      "  [254 203   0]\n",
      "  ...\n",
      "  [252 195   0]\n",
      "  [252 195   0]\n",
      "  [252 195   0]]\n",
      "\n",
      " ...\n",
      "\n",
      " [[225 168   0]\n",
      "  [225 168   0]\n",
      "  [225 168   0]\n",
      "  ...\n",
      "  [216 162   1]\n",
      "  [216 162   1]\n",
      "  [216 162   1]]\n",
      "\n",
      " [[225 168   0]\n",
      "  [225 168   0]\n",
      "  [225 168   0]\n",
      "  ...\n",
      "  [216 162   1]\n",
      "  [216 162   1]\n",
      "  [216 162   1]]\n",
      "\n",
      " [[224 167   0]\n",
      "  [225 168   0]\n",
      "  [225 168   0]\n",
      "  ...\n",
      "  [216 162   1]\n",
      "  [216 162   1]\n",
      "  [216 162   1]]]\n"
     ]
    }
   ],
   "source": [
    "img=image.imread('c-d-x-PDX_a_82obo-unsplash.jpg')\n",
    "print('The Shape of the image is:',img.shape)\n",
    "print('The image as array is:')\n",
    "print(img)"
   ]
  },
  {
   "cell_type": "code",
   "execution_count": 13,
   "id": "44e11418",
   "metadata": {},
   "outputs": [
    {
     "data": {
      "text/plain": [
       "array([[[254, 254, 254, ..., 225, 225, 224],\n",
       "        [254, 254, 254, ..., 225, 225, 225],\n",
       "        [254, 254, 254, ..., 225, 225, 225],\n",
       "        ...,\n",
       "        [252, 252, 252, ..., 216, 216, 216],\n",
       "        [252, 252, 252, ..., 216, 216, 216],\n",
       "        [252, 252, 252, ..., 216, 216, 216]],\n",
       "\n",
       "       [[203, 203, 203, ..., 168, 168, 167],\n",
       "        [203, 203, 203, ..., 168, 168, 168],\n",
       "        [203, 203, 203, ..., 168, 168, 168],\n",
       "        ...,\n",
       "        [195, 195, 195, ..., 162, 162, 162],\n",
       "        [195, 195, 195, ..., 162, 162, 162],\n",
       "        [195, 195, 195, ..., 162, 162, 162]],\n",
       "\n",
       "       [[  0,   0,   0, ...,   0,   0,   0],\n",
       "        [  0,   0,   0, ...,   0,   0,   0],\n",
       "        [  0,   0,   0, ...,   0,   0,   0],\n",
       "        ...,\n",
       "        [  0,   0,   0, ...,   1,   1,   1],\n",
       "        [  0,   0,   0, ...,   1,   1,   1],\n",
       "        [  0,   0,   0, ...,   1,   1,   1]]], dtype=uint8)"
      ]
     },
     "execution_count": 13,
     "metadata": {},
     "output_type": "execute_result"
    }
   ],
   "source": [
    "np.transpose(img)"
   ]
  },
  {
   "cell_type": "markdown",
   "id": "681ce570",
   "metadata": {},
   "source": [
    "****Diagonal Matrix****"
   ]
  },
  {
   "cell_type": "code",
   "execution_count": 14,
   "id": "3bb23f7f",
   "metadata": {},
   "outputs": [
    {
     "name": "stdout",
     "output_type": "stream",
     "text": [
      "The matrix is not diagonal\n"
     ]
    }
   ],
   "source": [
    "def isDiagonal(x):\n",
    "    a = np.shape(x)\n",
    "    size = 1 \n",
    "    for i in range(len(a)):\n",
    "        size = a[i] * size\n",
    "    non_zero = np.count_nonzero(x - np.diag(np.diagonal(x)))\n",
    "    if (non_zero == 0):\n",
    "        return print(\"The matrix is diagonal\")\n",
    "    elif (non_zero != 0):\n",
    "        return print(\"The matrix is not diagonal\")\n",
    "isDiagonal(img)"
   ]
  },
  {
   "cell_type": "markdown",
   "id": "553b6991",
   "metadata": {},
   "source": [
    "**Triangular matrix**\n",
    "\n",
    "**To check if a matrix is square**\n"
   ]
  },
  {
   "cell_type": "code",
   "execution_count": 15,
   "id": "7a7a7161",
   "metadata": {},
   "outputs": [],
   "source": [
    "#To check if a matrix is square\n",
    "def is_square(mat):\n",
    "    return all([len(i)==len(mat) for i in mat])"
   ]
  },
  {
   "cell_type": "code",
   "execution_count": 16,
   "id": "8f17ed05",
   "metadata": {},
   "outputs": [],
   "source": [
    "# To check if a matrix is upper triangular\n",
    "def isUpperTriangular(M):\n",
    "    if (is_square(M)): # to check if the matrix is sequar\n",
    "        for i in range(1, len(M)):\n",
    "            for j in range(0, i):\n",
    "                if(np.all(M[i][j]) != 0):\n",
    "                        return False\n",
    "        return True\n",
    "    else:\n",
    "        return \"The matrix is not Upper triangulaire\"\n"
   ]
  },
  {
   "cell_type": "code",
   "execution_count": 17,
   "id": "6839ffb0",
   "metadata": {},
   "outputs": [
    {
     "data": {
      "text/plain": [
       "'The matrix is not Upper triangulaire'"
      ]
     },
     "execution_count": 17,
     "metadata": {},
     "output_type": "execute_result"
    }
   ],
   "source": [
    "isUpperTriangular(img)"
   ]
  },
  {
   "cell_type": "code",
   "execution_count": 18,
   "id": "86327313",
   "metadata": {},
   "outputs": [],
   "source": [
    "# To check if a matrix is lower triangular\n",
    "def isLowerTriangular(M):\n",
    "    if (is_square(M)): # to check if the matrix is sequar\n",
    "        for i in range(1, len(M)):\n",
    "            for j in range(i + 1, len(M)):\n",
    "                if(np.all(M[i][j]) != 0):\n",
    "                        return False\n",
    "        return True\n",
    "    else:\n",
    "        return \"The matrix is not Lower triangulaire\""
   ]
  },
  {
   "cell_type": "code",
   "execution_count": 19,
   "id": "50b7d832",
   "metadata": {},
   "outputs": [
    {
     "data": {
      "text/plain": [
       "'The matrix is not Lower triangulaire'"
      ]
     },
     "execution_count": 19,
     "metadata": {},
     "output_type": "execute_result"
    }
   ],
   "source": [
    "isLowerTriangular(img)"
   ]
  },
  {
   "cell_type": "markdown",
   "id": "1e13a0e1",
   "metadata": {},
   "source": [
    "**Identity matrix**\n",
    "\n",
    "**L1 NORM**"
   ]
  },
  {
   "cell_type": "code",
   "execution_count": 20,
   "id": "855e4d75",
   "metadata": {},
   "outputs": [
    {
     "data": {
      "text/plain": [
       "1467212.0"
      ]
     },
     "execution_count": 20,
     "metadata": {},
     "output_type": "execute_result"
    }
   ],
   "source": [
    "from numpy.linalg import norm\n",
    "a = np.array(img[1])\n",
    "l1 = norm(a,1)\n",
    "l1"
   ]
  },
  {
   "cell_type": "markdown",
   "id": "8bb6d515",
   "metadata": {},
   "source": [
    "**L2 NORM**"
   ]
  },
  {
   "cell_type": "code",
   "execution_count": 21,
   "id": "51e2d06e",
   "metadata": {},
   "outputs": [
    {
     "data": {
      "text/plain": [
       "26140.358777185902"
      ]
     },
     "execution_count": 21,
     "metadata": {},
     "output_type": "execute_result"
    }
   ],
   "source": [
    "l2 = norm(img[1])\n",
    "l2"
   ]
  },
  {
   "cell_type": "code",
   "execution_count": null,
   "id": "f834ea3a",
   "metadata": {},
   "outputs": [],
   "source": []
  }
 ],
 "metadata": {
  "kernelspec": {
   "display_name": "Python 3 (ipykernel)",
   "language": "python",
   "name": "python3"
  },
  "language_info": {
   "codemirror_mode": {
    "name": "ipython",
    "version": 3
   },
   "file_extension": ".py",
   "mimetype": "text/x-python",
   "name": "python",
   "nbconvert_exporter": "python",
   "pygments_lexer": "ipython3",
   "version": "3.9.7"
  }
 },
 "nbformat": 4,
 "nbformat_minor": 5
}
